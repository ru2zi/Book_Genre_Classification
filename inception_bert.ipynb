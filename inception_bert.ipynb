{
  "metadata": {
    "kernelspec": {
      "language": "python",
      "display_name": "Python 3",
      "name": "python3"
    },
    "language_info": {
      "name": "python",
      "version": "3.10.10",
      "mimetype": "text/x-python",
      "codemirror_mode": {
        "name": "ipython",
        "version": 3
      },
      "pygments_lexer": "ipython3",
      "nbconvert_exporter": "python",
      "file_extension": ".py"
    },
    "colab": {
      "provenance": [],
      "include_colab_link": true
    }
  },
  "nbformat_minor": 0,
  "nbformat": 4,
  "cells": [
    {
      "cell_type": "markdown",
      "metadata": {
        "id": "view-in-github",
        "colab_type": "text"
      },
      "source": [
        "<a href=\"https://colab.research.google.com/github/ru2zi/Book_Genre_Classification/blob/main/inception_bert.ipynb\" target=\"_parent\"><img src=\"https://colab.research.google.com/assets/colab-badge.svg\" alt=\"Open In Colab\"/></a>"
      ]
    },
    {
      "cell_type": "code",
      "source": [
        "# This Python 3 environment comes with many helpful analytics libraries installed\n",
        "# It is defined by the kaggle/python Docker image: https://github.com/kaggle/docker-python\n",
        "# For example, here's several helpful packages to load\n",
        "\n",
        "import numpy as np # linear algebra\n",
        "import pandas as pd # data processing, CSV file I/O (e.g. pd.read_csv)\n",
        "\n",
        "# Input data files are available in the read-only \"../input/\" directory\n",
        "# For example, running this (by clicking run or pressing Shift+Enter) will list all files under the input directory\n",
        "\n",
        "import os\n",
        "for dirname, _, filenames in os.walk('/kaggle/input'):\n",
        "    for filename in filenames:\n",
        "        print(os.path.join(dirname, filename))\n",
        "\n",
        "# You can write up to 20GB to the current directory (/kaggle/working/) that gets preserved as output when you create a version using \"Save & Run All\"\n",
        "# You can also write temporary files to /kaggle/temp/, but they won't be saved outside of the current session"
      ],
      "metadata": {
        "_uuid": "8f2839f25d086af736a60e9eeb907d3b93b6e0e5",
        "_cell_guid": "b1076dfc-b9ad-4769-8c92-a6c4dae69d19",
        "trusted": true,
        "id": "uzroVtrsQo5k"
      },
      "execution_count": null,
      "outputs": []
    },
    {
      "cell_type": "code",
      "source": [
        "import tensorflow as tf\n",
        "print(tf.version.VERSION)\n"
      ],
      "metadata": {
        "execution": {
          "iopub.status.busy": "2023-05-26T01:53:57.632954Z",
          "iopub.execute_input": "2023-05-26T01:53:57.633458Z",
          "iopub.status.idle": "2023-05-26T01:53:57.641158Z",
          "shell.execute_reply.started": "2023-05-26T01:53:57.633418Z",
          "shell.execute_reply": "2023-05-26T01:53:57.639777Z"
        },
        "trusted": true,
        "id": "jlLrRts9Qo5l",
        "outputId": "816e3d73-b049-465f-c171-46e4a9b7385c"
      },
      "execution_count": null,
      "outputs": [
        {
          "name": "stdout",
          "text": "2.11.0\n",
          "output_type": "stream"
        }
      ]
    },
    {
      "cell_type": "code",
      "source": [
        "import numpy as np\n",
        "import pandas as pd\n",
        "import tensorflow as tf\n",
        "from tensorflow.keras.layers import Dense, Input\n",
        "from tensorflow.keras.optimizers import Adam\n",
        "from tensorflow.keras.models import Model\n",
        "from tensorflow.keras.callbacks import ModelCheckpoint\n",
        "import tensorflow_hub as hub"
      ],
      "metadata": {
        "execution": {
          "iopub.status.busy": "2023-05-28T15:07:23.226165Z",
          "iopub.execute_input": "2023-05-28T15:07:23.226989Z",
          "iopub.status.idle": "2023-05-28T15:07:33.537720Z",
          "shell.execute_reply.started": "2023-05-28T15:07:23.226955Z",
          "shell.execute_reply": "2023-05-28T15:07:33.536250Z"
        },
        "trusted": true,
        "id": "PeiNG3qHQo5m",
        "outputId": "136c4454-a1ef-4be5-a2ba-8d1d0c6a0b6f"
      },
      "execution_count": null,
      "outputs": [
        {
          "name": "stderr",
          "text": "/opt/conda/lib/python3.10/site-packages/scipy/__init__.py:146: UserWarning: A NumPy version >=1.16.5 and <1.23.0 is required for this version of SciPy (detected version 1.23.5\n  warnings.warn(f\"A NumPy version >={np_minversion} and <{np_maxversion}\"\n",
          "output_type": "stream"
        }
      ]
    },
    {
      "cell_type": "code",
      "source": [
        "print(\"TF Version: \", tf.__version__)\n",
        "print(\"Eager mode: \", tf.executing_eagerly())\n",
        "print(\"Hub version: \", hub.__version__)\n",
        "print(\"GPU is\", \"available\" if tf.config.experimental.list_physical_devices(\"GPU\") else \"NOT AVAILABLE\")\n"
      ],
      "metadata": {
        "execution": {
          "iopub.status.busy": "2023-05-26T14:43:48.803169Z",
          "iopub.execute_input": "2023-05-26T14:43:48.804213Z",
          "iopub.status.idle": "2023-05-26T14:43:48.821351Z",
          "shell.execute_reply.started": "2023-05-26T14:43:48.804163Z",
          "shell.execute_reply": "2023-05-26T14:43:48.819936Z"
        },
        "trusted": true,
        "id": "1e4N36BjQo5m",
        "outputId": "7b979f1d-92f0-4f9f-e3f9-20fdbeff802f"
      },
      "execution_count": null,
      "outputs": [
        {
          "name": "stdout",
          "text": "TF Version:  2.11.0\nEager mode:  True\nHub version:  0.12.0\nGPU is NOT AVAILABLE\n",
          "output_type": "stream"
        }
      ]
    },
    {
      "cell_type": "markdown",
      "source": [],
      "metadata": {
        "id": "evcUkbhKQo5n"
      }
    },
    {
      "cell_type": "code",
      "source": [
        "import pandas as pd\n",
        "import pandas as pd\n",
        "import numpy as np\n",
        "from tqdm import tqdm\n",
        "import gc\n",
        "\n",
        "from sklearn.model_selection import StratifiedKFold\n",
        "from sklearn.preprocessing import LabelEncoder\n",
        "\n",
        "import torch\n",
        "import torch.nn as nn\n",
        "import torch.nn.functional as F\n",
        "from torch.optim import AdamW\n",
        "from torch.optim import lr_scheduler\n",
        "from torch.utils.data import DataLoader, Dataset\n",
        "from torch.cuda.amp import autocast, GradScaler\n",
        "\n",
        "import tokenizers\n",
        "import transformers\n",
        "from transformers import AutoTokenizer, AutoModel, AutoConfig\n",
        "from transformers import get_linear_schedule_with_warmup, get_cosine_schedule_with_warmup\n"
      ],
      "metadata": {
        "execution": {
          "iopub.status.busy": "2023-05-29T08:12:48.596594Z",
          "iopub.execute_input": "2023-05-29T08:12:48.596945Z",
          "iopub.status.idle": "2023-05-29T08:13:03.135132Z",
          "shell.execute_reply.started": "2023-05-29T08:12:48.596918Z",
          "shell.execute_reply": "2023-05-29T08:13:03.133798Z"
        },
        "trusted": true,
        "id": "0X6kviB3Qo5n",
        "outputId": "4087f202-aa9e-4e46-b66b-fb0bfae414a0"
      },
      "execution_count": null,
      "outputs": [
        {
          "name": "stderr",
          "text": "/opt/conda/lib/python3.10/site-packages/scipy/__init__.py:146: UserWarning: A NumPy version >=1.16.5 and <1.23.0 is required for this version of SciPy (detected version 1.23.5\n  warnings.warn(f\"A NumPy version >={np_minversion} and <{np_maxversion}\"\n",
          "output_type": "stream"
        }
      ]
    },
    {
      "cell_type": "code",
      "source": [
        "df = pd.read_csv(\"/kaggle/input/jbnu-swuniv-ai/train_data.csv\")\n",
        "df"
      ],
      "metadata": {
        "execution": {
          "iopub.status.busy": "2023-05-29T08:13:08.215236Z",
          "iopub.execute_input": "2023-05-29T08:13:08.215570Z",
          "iopub.status.idle": "2023-05-29T08:13:08.350022Z",
          "shell.execute_reply.started": "2023-05-29T08:13:08.215544Z",
          "shell.execute_reply": "2023-05-29T08:13:08.348808Z"
        },
        "trusted": true,
        "id": "X-iGBVBnQo5o",
        "outputId": "16371b97-a7f7-47fd-d0fb-f80ad906c085"
      },
      "execution_count": null,
      "outputs": [
        {
          "execution_count": 5,
          "output_type": "execute_result",
          "data": {
            "text/plain": "          id        Filename  \\\n0          0  1101903236.jpg   \n1          1  0804139857.jpg   \n2          2  0765334798.jpg   \n3          3  0446310786.jpg   \n4          4  1143002598.jpg   \n...      ...             ...   \n68677  68677  0735582912.jpg   \n68678  68678  1433111020.jpg   \n68679  68679  0444853510.jpg   \n68680  68680  1449465447.jpg   \n68681  68681  0736948481.jpg   \n\n                                                   Title  \\\n0      The Oz Family Kitchen: More Than 100 Simple an...   \n1      Living with Intent: My Somewhat Messy Journey ...   \n2                    Redshirts: A Novel with Three Codas   \n3                                  To Kill a Mockingbird   \n4      Canning and Preserving of Food Products with B...   \n...                                                  ...   \n68677  Casenote Legal Briefs: Family Law, Keyed to Ha...   \n68678  Communication for Families in Crisis: Theories...   \n68679  Fine-line Lithography (Materials processing, t...   \n68680                       Magic Eye 2016 Wall Calendar   \n68681     The World's Greatest Collection of Clean Jokes   \n\n                             label  \n0            Cookbooks, Food, Wine  \n1                        Self Help  \n2         Science Fiction, Fantasy  \n3      Mystery, Thriller, Suspense  \n4            Cookbooks, Food, Wine  \n...                            ...  \n68677                          Law  \n68678                          Law  \n68679            Arts, Photography  \n68680                    Calendars  \n68681         Humor, Entertainment  \n\n[68682 rows x 4 columns]",
            "text/html": "<div>\n<style scoped>\n    .dataframe tbody tr th:only-of-type {\n        vertical-align: middle;\n    }\n\n    .dataframe tbody tr th {\n        vertical-align: top;\n    }\n\n    .dataframe thead th {\n        text-align: right;\n    }\n</style>\n<table border=\"1\" class=\"dataframe\">\n  <thead>\n    <tr style=\"text-align: right;\">\n      <th></th>\n      <th>id</th>\n      <th>Filename</th>\n      <th>Title</th>\n      <th>label</th>\n    </tr>\n  </thead>\n  <tbody>\n    <tr>\n      <th>0</th>\n      <td>0</td>\n      <td>1101903236.jpg</td>\n      <td>The Oz Family Kitchen: More Than 100 Simple an...</td>\n      <td>Cookbooks, Food, Wine</td>\n    </tr>\n    <tr>\n      <th>1</th>\n      <td>1</td>\n      <td>0804139857.jpg</td>\n      <td>Living with Intent: My Somewhat Messy Journey ...</td>\n      <td>Self Help</td>\n    </tr>\n    <tr>\n      <th>2</th>\n      <td>2</td>\n      <td>0765334798.jpg</td>\n      <td>Redshirts: A Novel with Three Codas</td>\n      <td>Science Fiction, Fantasy</td>\n    </tr>\n    <tr>\n      <th>3</th>\n      <td>3</td>\n      <td>0446310786.jpg</td>\n      <td>To Kill a Mockingbird</td>\n      <td>Mystery, Thriller, Suspense</td>\n    </tr>\n    <tr>\n      <th>4</th>\n      <td>4</td>\n      <td>1143002598.jpg</td>\n      <td>Canning and Preserving of Food Products with B...</td>\n      <td>Cookbooks, Food, Wine</td>\n    </tr>\n    <tr>\n      <th>...</th>\n      <td>...</td>\n      <td>...</td>\n      <td>...</td>\n      <td>...</td>\n    </tr>\n    <tr>\n      <th>68677</th>\n      <td>68677</td>\n      <td>0735582912.jpg</td>\n      <td>Casenote Legal Briefs: Family Law, Keyed to Ha...</td>\n      <td>Law</td>\n    </tr>\n    <tr>\n      <th>68678</th>\n      <td>68678</td>\n      <td>1433111020.jpg</td>\n      <td>Communication for Families in Crisis: Theories...</td>\n      <td>Law</td>\n    </tr>\n    <tr>\n      <th>68679</th>\n      <td>68679</td>\n      <td>0444853510.jpg</td>\n      <td>Fine-line Lithography (Materials processing, t...</td>\n      <td>Arts, Photography</td>\n    </tr>\n    <tr>\n      <th>68680</th>\n      <td>68680</td>\n      <td>1449465447.jpg</td>\n      <td>Magic Eye 2016 Wall Calendar</td>\n      <td>Calendars</td>\n    </tr>\n    <tr>\n      <th>68681</th>\n      <td>68681</td>\n      <td>0736948481.jpg</td>\n      <td>The World's Greatest Collection of Clean Jokes</td>\n      <td>Humor, Entertainment</td>\n    </tr>\n  </tbody>\n</table>\n<p>68682 rows × 4 columns</p>\n</div>"
          },
          "metadata": {}
        }
      ]
    },
    {
      "cell_type": "code",
      "source": [
        "unique_values = df['label'].unique().tolist()"
      ],
      "metadata": {
        "execution": {
          "iopub.status.busy": "2023-05-29T08:13:13.918105Z",
          "iopub.execute_input": "2023-05-29T08:13:13.918760Z",
          "iopub.status.idle": "2023-05-29T08:13:13.928455Z",
          "shell.execute_reply.started": "2023-05-29T08:13:13.918698Z",
          "shell.execute_reply": "2023-05-29T08:13:13.927039Z"
        },
        "trusted": true,
        "id": "5-Jdx8XCQo5o"
      },
      "execution_count": null,
      "outputs": []
    },
    {
      "cell_type": "code",
      "source": [
        "unique_values"
      ],
      "metadata": {
        "execution": {
          "iopub.status.busy": "2023-05-29T08:13:20.638549Z",
          "iopub.execute_input": "2023-05-29T08:13:20.639439Z",
          "iopub.status.idle": "2023-05-29T08:13:20.645351Z",
          "shell.execute_reply.started": "2023-05-29T08:13:20.639407Z",
          "shell.execute_reply": "2023-05-29T08:13:20.643906Z"
        },
        "trusted": true,
        "id": "Q-zmww69Qo5o",
        "outputId": "2111a9b9-dd42-472d-8f3f-6511db50dcf2"
      },
      "execution_count": null,
      "outputs": [
        {
          "execution_count": 10,
          "output_type": "execute_result",
          "data": {
            "text/plain": "['Cookbooks, Food, Wine',\n 'Self Help',\n 'Science Fiction, Fantasy',\n 'Mystery, Thriller, Suspense',\n 'Health, Fitness, Dieting',\n 'Humor, Entertainment',\n 'Religion, Spirituality',\n 'Computers, Technology',\n 'Reference',\n 'Medical Books',\n 'Test Preparation',\n 'Engineering, Transportation',\n 'Childrens Books',\n 'Arts, Photography',\n 'Science, Math',\n 'Parenting, Relationships',\n 'Literature, Fiction',\n 'Calendars',\n 'Sports, Outdoors',\n 'Travel',\n 'Crafts, Hobbies, Home',\n 'Law',\n 'Biographies, Memoirs',\n 'Education, Teaching']"
          },
          "metadata": {}
        }
      ]
    },
    {
      "cell_type": "code",
      "source": [
        "import pandas as pd\n",
        "\n",
        "# Step 1: Determine the number of samples per class\n",
        "total_samples = 1000\n",
        "num_classes = 24\n",
        "samples_per_class = total_samples // num_classes\n",
        "\n",
        "# Step 2: Split the original dataset into separate dataframes based on class labels\n",
        "class_dataframes = []\n",
        "for class_label in unique_values:\n",
        "    class_df = df[df['label'] == class_label]  # Replace 'class_label' with the actual column name\n",
        "    class_dataframes.append(class_df)\n",
        "\n",
        "# Step 4: Create an empty dataframe to store the extracted samples\n",
        "sample_df = pd.DataFrame()\n",
        "\n",
        "# Step 5: Extract samples from each class\n",
        "for class_df in class_dataframes:\n",
        "    extracted_samples = class_df.head(samples_per_class)\n",
        "    sample_df = sample_df.append(extracted_samples)"
      ],
      "metadata": {
        "execution": {
          "iopub.status.busy": "2023-05-28T15:08:00.852739Z",
          "iopub.execute_input": "2023-05-28T15:08:00.853174Z",
          "iopub.status.idle": "2023-05-28T15:08:01.019901Z",
          "shell.execute_reply.started": "2023-05-28T15:08:00.853145Z",
          "shell.execute_reply": "2023-05-28T15:08:01.018600Z"
        },
        "trusted": true,
        "id": "LYiN1mgXQo5p",
        "outputId": "f011db94-afa6-4660-bb2c-54a9ee15b9ec"
      },
      "execution_count": null,
      "outputs": [
        {
          "name": "stderr",
          "text": "/tmp/ipykernel_34/866014983.py:20: FutureWarning: The frame.append method is deprecated and will be removed from pandas in a future version. Use pandas.concat instead.\n  sample_df = sample_df.append(extracted_samples)\n/tmp/ipykernel_34/866014983.py:20: FutureWarning: The frame.append method is deprecated and will be removed from pandas in a future version. Use pandas.concat instead.\n  sample_df = sample_df.append(extracted_samples)\n/tmp/ipykernel_34/866014983.py:20: FutureWarning: The frame.append method is deprecated and will be removed from pandas in a future version. Use pandas.concat instead.\n  sample_df = sample_df.append(extracted_samples)\n/tmp/ipykernel_34/866014983.py:20: FutureWarning: The frame.append method is deprecated and will be removed from pandas in a future version. Use pandas.concat instead.\n  sample_df = sample_df.append(extracted_samples)\n/tmp/ipykernel_34/866014983.py:20: FutureWarning: The frame.append method is deprecated and will be removed from pandas in a future version. Use pandas.concat instead.\n  sample_df = sample_df.append(extracted_samples)\n/tmp/ipykernel_34/866014983.py:20: FutureWarning: The frame.append method is deprecated and will be removed from pandas in a future version. Use pandas.concat instead.\n  sample_df = sample_df.append(extracted_samples)\n/tmp/ipykernel_34/866014983.py:20: FutureWarning: The frame.append method is deprecated and will be removed from pandas in a future version. Use pandas.concat instead.\n  sample_df = sample_df.append(extracted_samples)\n/tmp/ipykernel_34/866014983.py:20: FutureWarning: The frame.append method is deprecated and will be removed from pandas in a future version. Use pandas.concat instead.\n  sample_df = sample_df.append(extracted_samples)\n/tmp/ipykernel_34/866014983.py:20: FutureWarning: The frame.append method is deprecated and will be removed from pandas in a future version. Use pandas.concat instead.\n  sample_df = sample_df.append(extracted_samples)\n/tmp/ipykernel_34/866014983.py:20: FutureWarning: The frame.append method is deprecated and will be removed from pandas in a future version. Use pandas.concat instead.\n  sample_df = sample_df.append(extracted_samples)\n/tmp/ipykernel_34/866014983.py:20: FutureWarning: The frame.append method is deprecated and will be removed from pandas in a future version. Use pandas.concat instead.\n  sample_df = sample_df.append(extracted_samples)\n/tmp/ipykernel_34/866014983.py:20: FutureWarning: The frame.append method is deprecated and will be removed from pandas in a future version. Use pandas.concat instead.\n  sample_df = sample_df.append(extracted_samples)\n/tmp/ipykernel_34/866014983.py:20: FutureWarning: The frame.append method is deprecated and will be removed from pandas in a future version. Use pandas.concat instead.\n  sample_df = sample_df.append(extracted_samples)\n/tmp/ipykernel_34/866014983.py:20: FutureWarning: The frame.append method is deprecated and will be removed from pandas in a future version. Use pandas.concat instead.\n  sample_df = sample_df.append(extracted_samples)\n/tmp/ipykernel_34/866014983.py:20: FutureWarning: The frame.append method is deprecated and will be removed from pandas in a future version. Use pandas.concat instead.\n  sample_df = sample_df.append(extracted_samples)\n/tmp/ipykernel_34/866014983.py:20: FutureWarning: The frame.append method is deprecated and will be removed from pandas in a future version. Use pandas.concat instead.\n  sample_df = sample_df.append(extracted_samples)\n/tmp/ipykernel_34/866014983.py:20: FutureWarning: The frame.append method is deprecated and will be removed from pandas in a future version. Use pandas.concat instead.\n  sample_df = sample_df.append(extracted_samples)\n/tmp/ipykernel_34/866014983.py:20: FutureWarning: The frame.append method is deprecated and will be removed from pandas in a future version. Use pandas.concat instead.\n  sample_df = sample_df.append(extracted_samples)\n/tmp/ipykernel_34/866014983.py:20: FutureWarning: The frame.append method is deprecated and will be removed from pandas in a future version. Use pandas.concat instead.\n  sample_df = sample_df.append(extracted_samples)\n/tmp/ipykernel_34/866014983.py:20: FutureWarning: The frame.append method is deprecated and will be removed from pandas in a future version. Use pandas.concat instead.\n  sample_df = sample_df.append(extracted_samples)\n/tmp/ipykernel_34/866014983.py:20: FutureWarning: The frame.append method is deprecated and will be removed from pandas in a future version. Use pandas.concat instead.\n  sample_df = sample_df.append(extracted_samples)\n/tmp/ipykernel_34/866014983.py:20: FutureWarning: The frame.append method is deprecated and will be removed from pandas in a future version. Use pandas.concat instead.\n  sample_df = sample_df.append(extracted_samples)\n/tmp/ipykernel_34/866014983.py:20: FutureWarning: The frame.append method is deprecated and will be removed from pandas in a future version. Use pandas.concat instead.\n  sample_df = sample_df.append(extracted_samples)\n/tmp/ipykernel_34/866014983.py:20: FutureWarning: The frame.append method is deprecated and will be removed from pandas in a future version. Use pandas.concat instead.\n  sample_df = sample_df.append(extracted_samples)\n",
          "output_type": "stream"
        }
      ]
    },
    {
      "cell_type": "code",
      "source": [
        "import os\n",
        "import pandas as pd\n",
        "\n",
        "data_dir = \"/kaggle/input/jbnu-swuniv-ai/train/\"\n",
        "\n",
        "def create_image_path(row):\n",
        "    return os.path.join(data_dir, row['label'], row['Filename'])\n",
        "\n",
        "sample_df['image_path'] = sample_df.apply(create_image_path, axis=1)"
      ],
      "metadata": {
        "execution": {
          "iopub.status.busy": "2023-05-28T15:08:05.803722Z",
          "iopub.execute_input": "2023-05-28T15:08:05.804110Z",
          "iopub.status.idle": "2023-05-28T15:08:05.827982Z",
          "shell.execute_reply.started": "2023-05-28T15:08:05.804081Z",
          "shell.execute_reply": "2023-05-28T15:08:05.826879Z"
        },
        "trusted": true,
        "id": "taAWwkm4Qo5p"
      },
      "execution_count": null,
      "outputs": []
    },
    {
      "cell_type": "markdown",
      "source": [
        "sample_df"
      ],
      "metadata": {
        "execution": {
          "iopub.status.busy": "2023-05-27T09:49:51.471626Z",
          "iopub.execute_input": "2023-05-27T09:49:51.472131Z",
          "iopub.status.idle": "2023-05-27T09:49:51.494301Z",
          "shell.execute_reply.started": "2023-05-27T09:49:51.472092Z",
          "shell.execute_reply": "2023-05-27T09:49:51.493048Z"
        },
        "id": "1FutVprqQo5p"
      }
    },
    {
      "cell_type": "code",
      "source": [
        "le = LabelEncoder()\n",
        "sample_df[\"label_encode\"] = le.fit_transform(sample_df.label)"
      ],
      "metadata": {
        "execution": {
          "iopub.status.busy": "2023-05-28T15:08:11.047210Z",
          "iopub.execute_input": "2023-05-28T15:08:11.048629Z",
          "iopub.status.idle": "2023-05-28T15:08:11.057778Z",
          "shell.execute_reply.started": "2023-05-28T15:08:11.048561Z",
          "shell.execute_reply": "2023-05-28T15:08:11.056449Z"
        },
        "trusted": true,
        "id": "NIvO3hu3Qo5p"
      },
      "execution_count": null,
      "outputs": []
    },
    {
      "cell_type": "code",
      "source": [
        "from sklearn.model_selection import train_test_split\n",
        "train_df, test_df = train_test_split(sample_df, test_size=0.2, random_state=42)\n",
        "train_df, test_df = train_df.reset_index(drop=True), test_df.reset_index(drop=True)\n",
        "print(\"Train:\", train_df.shape)\n",
        "print(\"Test:\", test_df.shape)"
      ],
      "metadata": {
        "execution": {
          "iopub.status.busy": "2023-05-28T15:08:14.753298Z",
          "iopub.execute_input": "2023-05-28T15:08:14.753817Z",
          "iopub.status.idle": "2023-05-28T15:08:14.769376Z",
          "shell.execute_reply.started": "2023-05-28T15:08:14.753775Z",
          "shell.execute_reply": "2023-05-28T15:08:14.765151Z"
        },
        "trusted": true,
        "id": "dBKn7x1cQo5p",
        "outputId": "9f35dd06-d540-404a-ecc7-67f930234c31"
      },
      "execution_count": null,
      "outputs": [
        {
          "name": "stdout",
          "text": "Train: (787, 6)\nTest: (197, 6)\n",
          "output_type": "stream"
        }
      ]
    },
    {
      "cell_type": "code",
      "source": [
        "train_df"
      ],
      "metadata": {
        "execution": {
          "iopub.status.busy": "2023-05-28T15:08:17.407328Z",
          "iopub.execute_input": "2023-05-28T15:08:17.407837Z",
          "iopub.status.idle": "2023-05-28T15:08:17.428032Z",
          "shell.execute_reply.started": "2023-05-28T15:08:17.407798Z",
          "shell.execute_reply": "2023-05-28T15:08:17.426416Z"
        },
        "trusted": true,
        "id": "ppK7oJbOQo5p",
        "outputId": "b7bf2446-63ab-4776-9b37-57abcfcf7199"
      },
      "execution_count": null,
      "outputs": [
        {
          "execution_count": 10,
          "output_type": "execute_result",
          "data": {
            "text/plain": "       id        Filename                                              Title  \\\n0    1355  0137152523.jpg  Assessment Procedures for Counselors and Helpi...   \n1     566  0847826902.jpg                           Classic Golf Instruction   \n2     232  1594744971.jpg  Stuff Every Husband Should Know (Pocket Compan...   \n3     742  1423484487.jpg  Secrets of Negotiating a Record Contract: Musi...   \n4     772  0316212954.jpg              Baseball World Series (Little League)   \n..    ...             ...                                                ...   \n782   527  B00EAP9IPO.jpg                                 Kafka on the Shore   \n783   614  0465014542.jpg  Creating Minds: An Anatomy of Creativity as Se...   \n784   712  0696235439.jpg  Ideas & How-To: Outdoor Kitchens (Better Homes...   \n785   746  160971699X.jpg  FSOT Flashcard Study System: FSOT Exam Practic...   \n786   455  1588460754.jpg  Ravenloft Campaign Setting: Core Rulebook (d20...   \n\n                        label  \\\n0         Education, Teaching   \n1            Sports, Outdoors   \n2                   Reference   \n3                         Law   \n4             Childrens Books   \n..                        ...   \n782  Science Fiction, Fantasy   \n783    Religion, Spirituality   \n784     Crafts, Hobbies, Home   \n785          Test Preparation   \n786  Science Fiction, Fantasy   \n\n                                            image_path  label_encode  \n0    /kaggle/input/jbnu-swuniv-ai/train/Education, ...             7  \n1    /kaggle/input/jbnu-swuniv-ai/train/Sports, Out...            21  \n2    /kaggle/input/jbnu-swuniv-ai/train/Reference/1...            16  \n3    /kaggle/input/jbnu-swuniv-ai/train/Law/1423484...            11  \n4    /kaggle/input/jbnu-swuniv-ai/train/Childrens B...             3  \n..                                                 ...           ...  \n782  /kaggle/input/jbnu-swuniv-ai/train/Science Fic...            18  \n783  /kaggle/input/jbnu-swuniv-ai/train/Religion, S...            17  \n784  /kaggle/input/jbnu-swuniv-ai/train/Crafts, Hob...             6  \n785  /kaggle/input/jbnu-swuniv-ai/train/Test Prepar...            22  \n786  /kaggle/input/jbnu-swuniv-ai/train/Science Fic...            18  \n\n[787 rows x 6 columns]",
            "text/html": "<div>\n<style scoped>\n    .dataframe tbody tr th:only-of-type {\n        vertical-align: middle;\n    }\n\n    .dataframe tbody tr th {\n        vertical-align: top;\n    }\n\n    .dataframe thead th {\n        text-align: right;\n    }\n</style>\n<table border=\"1\" class=\"dataframe\">\n  <thead>\n    <tr style=\"text-align: right;\">\n      <th></th>\n      <th>id</th>\n      <th>Filename</th>\n      <th>Title</th>\n      <th>label</th>\n      <th>image_path</th>\n      <th>label_encode</th>\n    </tr>\n  </thead>\n  <tbody>\n    <tr>\n      <th>0</th>\n      <td>1355</td>\n      <td>0137152523.jpg</td>\n      <td>Assessment Procedures for Counselors and Helpi...</td>\n      <td>Education, Teaching</td>\n      <td>/kaggle/input/jbnu-swuniv-ai/train/Education, ...</td>\n      <td>7</td>\n    </tr>\n    <tr>\n      <th>1</th>\n      <td>566</td>\n      <td>0847826902.jpg</td>\n      <td>Classic Golf Instruction</td>\n      <td>Sports, Outdoors</td>\n      <td>/kaggle/input/jbnu-swuniv-ai/train/Sports, Out...</td>\n      <td>21</td>\n    </tr>\n    <tr>\n      <th>2</th>\n      <td>232</td>\n      <td>1594744971.jpg</td>\n      <td>Stuff Every Husband Should Know (Pocket Compan...</td>\n      <td>Reference</td>\n      <td>/kaggle/input/jbnu-swuniv-ai/train/Reference/1...</td>\n      <td>16</td>\n    </tr>\n    <tr>\n      <th>3</th>\n      <td>742</td>\n      <td>1423484487.jpg</td>\n      <td>Secrets of Negotiating a Record Contract: Musi...</td>\n      <td>Law</td>\n      <td>/kaggle/input/jbnu-swuniv-ai/train/Law/1423484...</td>\n      <td>11</td>\n    </tr>\n    <tr>\n      <th>4</th>\n      <td>772</td>\n      <td>0316212954.jpg</td>\n      <td>Baseball World Series (Little League)</td>\n      <td>Childrens Books</td>\n      <td>/kaggle/input/jbnu-swuniv-ai/train/Childrens B...</td>\n      <td>3</td>\n    </tr>\n    <tr>\n      <th>...</th>\n      <td>...</td>\n      <td>...</td>\n      <td>...</td>\n      <td>...</td>\n      <td>...</td>\n      <td>...</td>\n    </tr>\n    <tr>\n      <th>782</th>\n      <td>527</td>\n      <td>B00EAP9IPO.jpg</td>\n      <td>Kafka on the Shore</td>\n      <td>Science Fiction, Fantasy</td>\n      <td>/kaggle/input/jbnu-swuniv-ai/train/Science Fic...</td>\n      <td>18</td>\n    </tr>\n    <tr>\n      <th>783</th>\n      <td>614</td>\n      <td>0465014542.jpg</td>\n      <td>Creating Minds: An Anatomy of Creativity as Se...</td>\n      <td>Religion, Spirituality</td>\n      <td>/kaggle/input/jbnu-swuniv-ai/train/Religion, S...</td>\n      <td>17</td>\n    </tr>\n    <tr>\n      <th>784</th>\n      <td>712</td>\n      <td>0696235439.jpg</td>\n      <td>Ideas &amp; How-To: Outdoor Kitchens (Better Homes...</td>\n      <td>Crafts, Hobbies, Home</td>\n      <td>/kaggle/input/jbnu-swuniv-ai/train/Crafts, Hob...</td>\n      <td>6</td>\n    </tr>\n    <tr>\n      <th>785</th>\n      <td>746</td>\n      <td>160971699X.jpg</td>\n      <td>FSOT Flashcard Study System: FSOT Exam Practic...</td>\n      <td>Test Preparation</td>\n      <td>/kaggle/input/jbnu-swuniv-ai/train/Test Prepar...</td>\n      <td>22</td>\n    </tr>\n    <tr>\n      <th>786</th>\n      <td>455</td>\n      <td>1588460754.jpg</td>\n      <td>Ravenloft Campaign Setting: Core Rulebook (d20...</td>\n      <td>Science Fiction, Fantasy</td>\n      <td>/kaggle/input/jbnu-swuniv-ai/train/Science Fic...</td>\n      <td>18</td>\n    </tr>\n  </tbody>\n</table>\n<p>787 rows × 6 columns</p>\n</div>"
          },
          "metadata": {}
        }
      ]
    },
    {
      "cell_type": "code",
      "source": [
        "train_texts = train_df[\"Title\"].to_list() # Features (not-tokenized yet)\n",
        "train_labels = train_df[\"label_encode\"].to_list() # Labels"
      ],
      "metadata": {
        "execution": {
          "iopub.status.busy": "2023-05-26T01:14:38.797879Z",
          "iopub.execute_input": "2023-05-26T01:14:38.799050Z",
          "iopub.status.idle": "2023-05-26T01:14:38.804421Z",
          "shell.execute_reply.started": "2023-05-26T01:14:38.799008Z",
          "shell.execute_reply": "2023-05-26T01:14:38.803333Z"
        },
        "trusted": true,
        "id": "dzpAUnz3Qo5q"
      },
      "execution_count": null,
      "outputs": []
    },
    {
      "cell_type": "code",
      "source": [
        "from sklearn.model_selection import train_test_split\n",
        "\n",
        "# Split Train and Validation data\n",
        "train_texts, val_texts, train_labels, val_labels = train_test_split(train_texts, train_labels, test_size=0.2, random_state=0)"
      ],
      "metadata": {
        "execution": {
          "iopub.status.busy": "2023-05-26T01:16:03.506849Z",
          "iopub.execute_input": "2023-05-26T01:16:03.507301Z",
          "iopub.status.idle": "2023-05-26T01:16:03.515822Z",
          "shell.execute_reply.started": "2023-05-26T01:16:03.507261Z",
          "shell.execute_reply": "2023-05-26T01:16:03.514310Z"
        },
        "trusted": true,
        "id": "g5TPvrlKQo5q"
      },
      "execution_count": null,
      "outputs": []
    },
    {
      "cell_type": "code",
      "source": [
        "#입력 텍스트를 토큰으로 분할하고 이에 대응하는 정수 인덱스를 생성합니다. 이렇게 생성된 토큰과 인덱스는 BERT 모델의 입력으로 사용"
      ],
      "metadata": {
        "execution": {
          "iopub.status.busy": "2023-05-24T12:44:26.198360Z",
          "iopub.execute_input": "2023-05-24T12:44:26.198779Z",
          "iopub.status.idle": "2023-05-24T12:44:26.220176Z",
          "shell.execute_reply.started": "2023-05-24T12:44:26.198743Z",
          "shell.execute_reply": "2023-05-24T12:44:26.219291Z"
        },
        "trusted": true,
        "id": "BjarbX9TQo5q"
      },
      "execution_count": null,
      "outputs": []
    },
    {
      "cell_type": "code",
      "source": [
        "import numpy as np\n",
        "import pandas as pd\n",
        "import tensorflow as tf\n",
        "from tensorflow.keras.layers import Dense, Input\n",
        "from tensorflow.keras.optimizers import Adam\n",
        "from tensorflow.keras.models import Model\n",
        "from tensorflow.keras.callbacks import ModelCheckpoint\n",
        "import tensorflow_hub as hub"
      ],
      "metadata": {
        "execution": {
          "iopub.status.busy": "2023-05-27T09:51:48.200356Z",
          "iopub.execute_input": "2023-05-27T09:51:48.200777Z",
          "iopub.status.idle": "2023-05-27T09:51:48.207863Z",
          "shell.execute_reply.started": "2023-05-27T09:51:48.200748Z",
          "shell.execute_reply": "2023-05-27T09:51:48.206390Z"
        },
        "trusted": true,
        "id": "a27thtRrQo5q"
      },
      "execution_count": null,
      "outputs": []
    },
    {
      "cell_type": "code",
      "source": [
        "!pip install transformers --yes"
      ],
      "metadata": {
        "execution": {
          "iopub.status.busy": "2023-05-26T02:22:47.713823Z",
          "iopub.execute_input": "2023-05-26T02:22:47.714303Z",
          "iopub.status.idle": "2023-05-26T02:22:49.443675Z",
          "shell.execute_reply.started": "2023-05-26T02:22:47.714261Z",
          "shell.execute_reply": "2023-05-26T02:22:49.442244Z"
        },
        "trusted": true,
        "id": "ip_yrIcTQo5q",
        "outputId": "8ff494b1-3a9a-4fc1-fcb9-45fa411f832d"
      },
      "execution_count": null,
      "outputs": [
        {
          "name": "stdout",
          "text": "\nUsage:   \n  pip install [options] <requirement specifier> [package-index-options] ...\n  pip install [options] -r <requirements file> [package-index-options] ...\n  pip install [options] [-e] <vcs project url> ...\n  pip install [options] [-e] <local project path> ...\n  pip install [options] <archive url/path> ...\n\nno such option: --yes\n",
          "output_type": "stream"
        }
      ]
    },
    {
      "cell_type": "code",
      "source": [
        "%%time\n",
        "module_url = \"https://tfhub.dev/tensorflow/bert_en_uncased_L-24_H-1024_A-16/1\"\n",
        "bert_layer = hub.KerasLayer(module_url, trainable=True)"
      ],
      "metadata": {
        "execution": {
          "iopub.status.busy": "2023-05-27T11:58:32.864067Z",
          "iopub.execute_input": "2023-05-27T11:58:32.864528Z",
          "iopub.status.idle": "2023-05-27T11:59:10.609712Z",
          "shell.execute_reply.started": "2023-05-27T11:58:32.864495Z",
          "shell.execute_reply": "2023-05-27T11:59:10.608229Z"
        },
        "trusted": true,
        "id": "wT-LQZE6Qo5q",
        "outputId": "28fb7a17-2e10-42dc-c07a-88dfb730a41f"
      },
      "execution_count": null,
      "outputs": [
        {
          "name": "stdout",
          "text": "CPU times: user 25.8 s, sys: 5.74 s, total: 31.5 s\nWall time: 37.7 s\n",
          "output_type": "stream"
        }
      ]
    },
    {
      "cell_type": "code",
      "source": [
        "from transformers import BertTokenizer\n",
        "\n",
        "tokenizer = BertTokenizer.from_pretrained('bert-base-uncased')\n"
      ],
      "metadata": {
        "execution": {
          "iopub.status.busy": "2023-05-28T15:08:32.183228Z",
          "iopub.execute_input": "2023-05-28T15:08:32.183738Z",
          "iopub.status.idle": "2023-05-28T15:08:35.960210Z",
          "shell.execute_reply.started": "2023-05-28T15:08:32.183674Z",
          "shell.execute_reply": "2023-05-28T15:08:35.958783Z"
        },
        "trusted": true,
        "id": "1iBAotzdQo5q",
        "outputId": "2b06fccf-3fb3-4b78-b677-c4bb29173c81",
        "colab": {
          "referenced_widgets": [
            "100691061fa84987889a960ea504e20c",
            "b0c95519ba51432dbb969835ec2e0c97",
            "c2ffe97b340c4f518b6b3a826de6103d"
          ]
        }
      },
      "execution_count": null,
      "outputs": [
        {
          "output_type": "display_data",
          "data": {
            "text/plain": "Downloading (…)solve/main/vocab.txt:   0%|          | 0.00/232k [00:00<?, ?B/s]",
            "application/vnd.jupyter.widget-view+json": {
              "version_major": 2,
              "version_minor": 0,
              "model_id": "100691061fa84987889a960ea504e20c"
            }
          },
          "metadata": {}
        },
        {
          "output_type": "display_data",
          "data": {
            "text/plain": "Downloading (…)okenizer_config.json:   0%|          | 0.00/28.0 [00:00<?, ?B/s]",
            "application/vnd.jupyter.widget-view+json": {
              "version_major": 2,
              "version_minor": 0,
              "model_id": "b0c95519ba51432dbb969835ec2e0c97"
            }
          },
          "metadata": {}
        },
        {
          "output_type": "display_data",
          "data": {
            "text/plain": "Downloading (…)lve/main/config.json:   0%|          | 0.00/570 [00:00<?, ?B/s]",
            "application/vnd.jupyter.widget-view+json": {
              "version_major": 2,
              "version_minor": 0,
              "model_id": "c2ffe97b340c4f518b6b3a826de6103d"
            }
          },
          "metadata": {}
        }
      ]
    },
    {
      "cell_type": "code",
      "source": [
        "import re"
      ],
      "metadata": {
        "execution": {
          "iopub.status.busy": "2023-05-27T09:53:32.835469Z",
          "iopub.execute_input": "2023-05-27T09:53:32.835958Z",
          "iopub.status.idle": "2023-05-27T09:53:32.844523Z",
          "shell.execute_reply.started": "2023-05-27T09:53:32.835927Z",
          "shell.execute_reply": "2023-05-27T09:53:32.842773Z"
        },
        "trusted": true,
        "id": "k_4tNdQrQo5q"
      },
      "execution_count": null,
      "outputs": []
    },
    {
      "cell_type": "code",
      "source": [
        "load_and_prepare_data(sample_df['image_path'][7])"
      ],
      "metadata": {
        "id": "FlInBCnSQo5q"
      },
      "execution_count": null,
      "outputs": []
    },
    {
      "cell_type": "code",
      "source": [
        "max_length = sample_df['Title'].apply(lambda x: len(x)).max()\n",
        "print(max_length)\n"
      ],
      "metadata": {
        "execution": {
          "iopub.status.busy": "2023-05-28T08:35:56.316627Z",
          "iopub.execute_input": "2023-05-28T08:35:56.317027Z",
          "iopub.status.idle": "2023-05-28T08:35:56.324728Z",
          "shell.execute_reply.started": "2023-05-28T08:35:56.316998Z",
          "shell.execute_reply": "2023-05-28T08:35:56.323806Z"
        },
        "trusted": true,
        "id": "TiHqYtELQo5r",
        "outputId": "d9c36bd7-1e88-4fef-a563-e3174aa26934"
      },
      "execution_count": null,
      "outputs": [
        {
          "name": "stdout",
          "text": "199\n",
          "output_type": "stream"
        }
      ]
    },
    {
      "cell_type": "code",
      "source": [
        "max_length = 300"
      ],
      "metadata": {
        "execution": {
          "iopub.status.busy": "2023-05-28T08:36:17.282688Z",
          "iopub.execute_input": "2023-05-28T08:36:17.283086Z",
          "iopub.status.idle": "2023-05-28T08:36:17.287548Z",
          "shell.execute_reply.started": "2023-05-28T08:36:17.283057Z",
          "shell.execute_reply": "2023-05-28T08:36:17.286545Z"
        },
        "trusted": true,
        "id": "dIM5h_40Qo5r"
      },
      "execution_count": null,
      "outputs": []
    },
    {
      "cell_type": "code",
      "source": [
        "pa= sample_df['image_path'][0].split(os.sep)\n",
        "pa[-2]"
      ],
      "metadata": {
        "execution": {
          "iopub.status.busy": "2023-05-28T15:13:36.254136Z",
          "iopub.execute_input": "2023-05-28T15:13:36.254597Z",
          "iopub.status.idle": "2023-05-28T15:13:36.261505Z",
          "shell.execute_reply.started": "2023-05-28T15:13:36.254557Z",
          "shell.execute_reply": "2023-05-28T15:13:36.260239Z"
        },
        "trusted": true,
        "id": "G3EJjvs5Qo5r",
        "outputId": "8742315b-89b8-43a1-e5a6-bd9ded23395e"
      },
      "execution_count": null,
      "outputs": [
        {
          "execution_count": 13,
          "output_type": "execute_result",
          "data": {
            "text/plain": "'Cookbooks, Food, Wine'"
          },
          "metadata": {}
        }
      ]
    },
    {
      "cell_type": "code",
      "source": [
        "import numpy as np\n",
        "import cv2\n",
        "import re\n",
        "import os\n",
        "import pandas as pd\n",
        "import tensorflow as tf\n",
        "\n",
        "# 전처리 함수들\n",
        "def preprocess_text(sen):\n",
        "    # HTML 태그 제거\n",
        "    sentence = remove_tags(sen)\n",
        "    # 구두점과 숫자 제거\n",
        "    sentence = re.sub('[^a-zA-Z]', ' ', sentence)\n",
        "    # 단일 문자 제거\n",
        "    sentence = re.sub(r\"\\s+[a-zA-Z]\\s+\", ' ', sentence)\n",
        "    # 여러 개의 공백 제거\n",
        "    sentence = re.sub(r'\\s+', ' ', sentence)\n",
        "    sentence = sentence.lower()\n",
        "    return sentence\n",
        "\n",
        "def remove_tags(text):\n",
        "    return TAG_RE.sub('', text)\n",
        "\n",
        "TAG_RE = re.compile(r'<[^>]+>')\n",
        "vec_preprocess_text = np.vectorize(preprocess_text)\n",
        "\n",
        "# 텍스트 데이터 처리 함수들\n",
        "def get_tokens(text, tokenizer, max_length=300):\n",
        "    tokens = tokenizer.tokenize(text)\n",
        "    tokens = [\"[CLS]\"] + tokens + [\"[SEP]\"]\n",
        "    length = len(tokens)\n",
        "    if length > max_length:\n",
        "        tokens = tokens[:max_length]\n",
        "    return tokens, length\n",
        "\n",
        "def get_masks(text, tokenizer, max_length):\n",
        "    \"\"\"패딩을 위한 마스크\"\"\"\n",
        "    tokens, length = get_tokens(text, tokenizer, max_length)\n",
        "    return np.asarray([1] * len(tokens) + [0] * (max_length - len(tokens)))\n",
        "\n",
        "vec_get_masks = np.vectorize(get_masks, signature='(),(),()->(n)')\n",
        "\n",
        "def get_segments(text, tokenizer, max_length):\n",
        "    \"\"\"세그먼트: 첫 번째 시퀀스는 0, 두 번째 시퀀스는 1\"\"\"\n",
        "    tokens, length = get_tokens(text, tokenizer, max_length)\n",
        "    segments = []\n",
        "    current_segment_id = 0\n",
        "    for token in tokens:\n",
        "        segments.append(current_segment_id)\n",
        "        if token == \"[SEP]\":\n",
        "            current_segment_id = 1\n",
        "    return np.asarray(segments + [0] * (max_length - len(tokens)))\n",
        "\n",
        "vec_get_segments = np.vectorize(get_segments, signature='(),(),()->(n)')\n",
        "\n",
        "def get_ids(text, tokenizer, max_length):\n",
        "    \"\"\"Tokenizer vocab에서 토큰 ID 가져오기\"\"\"\n",
        "    tokens, length = get_tokens(text, tokenizer)\n",
        "    token_ids = tokenizer.convert_tokens_to_ids(tokens)\n",
        "    input_ids = np.asarray(token_ids + [0] * (max_length - length))\n",
        "    return input_ids\n",
        "\n",
        "vec_get_ids = np.vectorize(get_ids, signature='(),(),()->(n)')\n",
        "\n",
        "def get_text(image_path, df):\n",
        "    parts = image_path.split(os.sep)\n",
        "    image_name = parts[-1]\n",
        "    text = df.loc[df['Filename'] == image_name, 'Title'].values[0]\n",
        "    return text\n",
        "\n",
        "vec_get_text = np.vectorize(get_text)\n",
        "\n",
        "\n",
        "def prepare_text(image_path):\n",
        "    #Preparing texts\n",
        "\n",
        "    texts = vec_get_text(image_path)\n",
        "\n",
        "    text_array = vec_preprocess_text(texts)\n",
        "\n",
        "    ids = vec_get_ids(text_array,\n",
        "                      tokenizer,\n",
        "                      max_length).squeeze().astype(np.int32)\n",
        "    masks = vec_get_masks(text_array,\n",
        "                          tokenizer,\n",
        "                          max_length).squeeze().astype(np.int32)\n",
        "    segments = vec_get_segments(text_array,\n",
        "                                tokenizer,\n",
        "                                max_length).squeeze().astype(np.int32)\n",
        "\n",
        "    return ids, segments, masks\n",
        "\n",
        "# Images preprocessing\n",
        "def load_image(image_path):\n",
        "    image = cv2.imread(image_path)\n",
        "    image = cv2.resize(image, (299, 299))\n",
        "    image = image / 255\n",
        "    image = image.astype(np.float32)\n",
        "\n",
        "    parts = image_path.split(os.sep)\n",
        "    labels = parts[-2]\n",
        "    labels = labels.astype(np.int32)\n",
        "\n",
        "    return image, labels\n",
        "\n",
        "vec_load_image = np.vectorize(load_image, signature = '()->(r,c,d),(s)')\n",
        "\n",
        "\n",
        "\n",
        "def prepare_data(paths):\n",
        "    #Images and labels\n",
        "    images, labels = tf.numpy_function(vec_load_image,\n",
        "                                      [paths],\n",
        "                                      [tf.float32,\n",
        "                                        tf.int32])\n",
        "\n",
        "\n",
        "    [ids, segments, masks, ] = tf.numpy_function(prepare_text,\n",
        "                                              [paths],\n",
        "                                              [tf.int32,\n",
        "                                               tf.int32,\n",
        "                                               tf.int32])\n",
        "    images.set_shape([None, img_width, img_height, depth])\n",
        "    labels.set_shape([None, nClasses])\n",
        "    ids.set_shape([None, max_length])\n",
        "    masks.set_shape([None, max_length])\n",
        "    segments.set_shape([None, max_length])\n",
        "    return ({\"input_word_ids\": ids,\n",
        "             \"input_mask\": masks,\n",
        "             \"segment_ids\": segments,\n",
        "             \"image\": images},\n",
        "            {\"class\": labels})\n",
        "\n",
        "\n",
        "    return dataset\n",
        "\n",
        "\n",
        "\n",
        "\n",
        "\n",
        "# Images loading using tf.data\n",
        "def tf_data(path, batch_size):\n",
        "    paths = tf.data.Dataset.list_files(path)\n",
        "    paths = paths.batch(64)\n",
        "    dataset = paths.map(prepare_data, tf.data.experimental.AUTOTUNE)\n",
        "    dataset = dataset.prefetch(tf.data.experimental.AUTOTUNE)\n",
        "    dataset = dataset.unbatch()\n",
        "    dataset = dataset.batch(batch_size)\n",
        "    dataset = dataset.repeat()\n",
        "    return dataset\n",
        "\n",
        "\n",
        "\n",
        "\n",
        "\n"
      ],
      "metadata": {
        "execution": {
          "iopub.status.busy": "2023-05-28T15:24:39.585404Z",
          "iopub.execute_input": "2023-05-28T15:24:39.585973Z",
          "iopub.status.idle": "2023-05-28T15:24:39.622119Z",
          "shell.execute_reply.started": "2023-05-28T15:24:39.585929Z",
          "shell.execute_reply": "2023-05-28T15:24:39.620884Z"
        },
        "trusted": true,
        "id": "IY8kuiYEQo5r"
      },
      "execution_count": null,
      "outputs": []
    },
    {
      "cell_type": "code",
      "source": [
        "\n",
        "# Parameters setting: images width and height, depth, number if classes, input shape\n",
        "batch_size =  80\n",
        "img_width = 299\n",
        "img_height = 299\n",
        "depth = 3\n",
        "max_length = 300\n",
        "\n",
        "nClasses = sample_df['label_encode'].nunique()\n",
        "Classes = sample_df['label_encode'].unique()\n",
        "input_shape = (img_width, img_height, depth)"
      ],
      "metadata": {
        "execution": {
          "iopub.status.busy": "2023-05-28T15:24:42.211414Z",
          "iopub.execute_input": "2023-05-28T15:24:42.211942Z",
          "iopub.status.idle": "2023-05-28T15:24:42.219391Z",
          "shell.execute_reply.started": "2023-05-28T15:24:42.211898Z",
          "shell.execute_reply": "2023-05-28T15:24:42.218244Z"
        },
        "trusted": true,
        "id": "LXOvrDO0Qo5r"
      },
      "execution_count": null,
      "outputs": []
    },
    {
      "cell_type": "code",
      "source": [
        "batch_size = 16\n",
        "dataset = tf_data(sample_df, batch_size)"
      ],
      "metadata": {
        "execution": {
          "iopub.status.busy": "2023-05-28T15:24:43.589305Z",
          "iopub.execute_input": "2023-05-28T15:24:43.591957Z",
          "iopub.status.idle": "2023-05-28T15:24:44.141126Z",
          "shell.execute_reply.started": "2023-05-28T15:24:43.591907Z",
          "shell.execute_reply": "2023-05-28T15:24:44.139452Z"
        },
        "trusted": true,
        "id": "DllW4RIkQo5r",
        "outputId": "e6116ef2-b08e-46ee-db31-c5224730c6e7"
      },
      "execution_count": null,
      "outputs": [
        {
          "traceback": [
            "\u001b[0;31m---------------------------------------------------------------------------\u001b[0m",
            "\u001b[0;31mValueError\u001b[0m                                Traceback (most recent call last)",
            "Cell \u001b[0;32mIn[19], line 2\u001b[0m\n\u001b[1;32m      1\u001b[0m batch_size \u001b[38;5;241m=\u001b[39m \u001b[38;5;241m16\u001b[39m\n\u001b[0;32m----> 2\u001b[0m dataset \u001b[38;5;241m=\u001b[39m \u001b[43mtf_data\u001b[49m\u001b[43m(\u001b[49m\u001b[43msample_df\u001b[49m\u001b[43m,\u001b[49m\u001b[43m \u001b[49m\u001b[43mbatch_size\u001b[49m\u001b[43m)\u001b[49m\n",
            "Cell \u001b[0;32mIn[17], line 143\u001b[0m, in \u001b[0;36mtf_data\u001b[0;34m(path, batch_size)\u001b[0m\n\u001b[1;32m    142\u001b[0m \u001b[38;5;28;01mdef\u001b[39;00m \u001b[38;5;21mtf_data\u001b[39m(path, batch_size):\n\u001b[0;32m--> 143\u001b[0m     paths \u001b[38;5;241m=\u001b[39m \u001b[43mtf\u001b[49m\u001b[38;5;241;43m.\u001b[39;49m\u001b[43mdata\u001b[49m\u001b[38;5;241;43m.\u001b[39;49m\u001b[43mDataset\u001b[49m\u001b[38;5;241;43m.\u001b[39;49m\u001b[43mlist_files\u001b[49m\u001b[43m(\u001b[49m\u001b[43mpath\u001b[49m\u001b[43m)\u001b[49m\n\u001b[1;32m    144\u001b[0m     paths \u001b[38;5;241m=\u001b[39m paths\u001b[38;5;241m.\u001b[39mbatch(\u001b[38;5;241m64\u001b[39m)\n\u001b[1;32m    145\u001b[0m     dataset \u001b[38;5;241m=\u001b[39m paths\u001b[38;5;241m.\u001b[39mmap(prepare_data, tf\u001b[38;5;241m.\u001b[39mdata\u001b[38;5;241m.\u001b[39mexperimental\u001b[38;5;241m.\u001b[39mAUTOTUNE)\n",
            "File \u001b[0;32m/opt/conda/lib/python3.10/site-packages/tensorflow/python/data/ops/dataset_ops.py:1459\u001b[0m, in \u001b[0;36mDatasetV2.list_files\u001b[0;34m(file_pattern, shuffle, seed, name)\u001b[0m\n\u001b[1;32m   1457\u001b[0m \u001b[38;5;28;01mif\u001b[39;00m shuffle \u001b[38;5;129;01mis\u001b[39;00m \u001b[38;5;28;01mNone\u001b[39;00m:\n\u001b[1;32m   1458\u001b[0m   shuffle \u001b[38;5;241m=\u001b[39m \u001b[38;5;28;01mTrue\u001b[39;00m\n\u001b[0;32m-> 1459\u001b[0m file_pattern \u001b[38;5;241m=\u001b[39m \u001b[43mops\u001b[49m\u001b[38;5;241;43m.\u001b[39;49m\u001b[43mconvert_to_tensor\u001b[49m\u001b[43m(\u001b[49m\n\u001b[1;32m   1460\u001b[0m \u001b[43m    \u001b[49m\u001b[43mfile_pattern\u001b[49m\u001b[43m,\u001b[49m\u001b[43m \u001b[49m\u001b[43mdtype\u001b[49m\u001b[38;5;241;43m=\u001b[39;49m\u001b[43mdtypes\u001b[49m\u001b[38;5;241;43m.\u001b[39;49m\u001b[43mstring\u001b[49m\u001b[43m,\u001b[49m\u001b[43m \u001b[49m\u001b[43mname\u001b[49m\u001b[38;5;241;43m=\u001b[39;49m\u001b[38;5;124;43m\"\u001b[39;49m\u001b[38;5;124;43mfile_pattern\u001b[39;49m\u001b[38;5;124;43m\"\u001b[39;49m\u001b[43m)\u001b[49m\n\u001b[1;32m   1461\u001b[0m matching_files \u001b[38;5;241m=\u001b[39m gen_io_ops\u001b[38;5;241m.\u001b[39mmatching_files(file_pattern)\n\u001b[1;32m   1463\u001b[0m \u001b[38;5;66;03m# Raise an exception if `file_pattern` does not match any files.\u001b[39;00m\n",
            "File \u001b[0;32m/opt/conda/lib/python3.10/site-packages/tensorflow/python/profiler/trace.py:183\u001b[0m, in \u001b[0;36mtrace_wrapper.<locals>.inner_wrapper.<locals>.wrapped\u001b[0;34m(*args, **kwargs)\u001b[0m\n\u001b[1;32m    181\u001b[0m   \u001b[38;5;28;01mwith\u001b[39;00m Trace(trace_name, \u001b[38;5;241m*\u001b[39m\u001b[38;5;241m*\u001b[39mtrace_kwargs):\n\u001b[1;32m    182\u001b[0m     \u001b[38;5;28;01mreturn\u001b[39;00m func(\u001b[38;5;241m*\u001b[39margs, \u001b[38;5;241m*\u001b[39m\u001b[38;5;241m*\u001b[39mkwargs)\n\u001b[0;32m--> 183\u001b[0m \u001b[38;5;28;01mreturn\u001b[39;00m \u001b[43mfunc\u001b[49m\u001b[43m(\u001b[49m\u001b[38;5;241;43m*\u001b[39;49m\u001b[43margs\u001b[49m\u001b[43m,\u001b[49m\u001b[43m \u001b[49m\u001b[38;5;241;43m*\u001b[39;49m\u001b[38;5;241;43m*\u001b[39;49m\u001b[43mkwargs\u001b[49m\u001b[43m)\u001b[49m\n",
            "File \u001b[0;32m/opt/conda/lib/python3.10/site-packages/tensorflow/python/framework/ops.py:1636\u001b[0m, in \u001b[0;36mconvert_to_tensor\u001b[0;34m(value, dtype, name, as_ref, preferred_dtype, dtype_hint, ctx, accepted_result_types)\u001b[0m\n\u001b[1;32m   1627\u001b[0m       \u001b[38;5;28;01mraise\u001b[39;00m \u001b[38;5;167;01mRuntimeError\u001b[39;00m(\n\u001b[1;32m   1628\u001b[0m           _add_error_prefix(\n\u001b[1;32m   1629\u001b[0m               \u001b[38;5;124mf\u001b[39m\u001b[38;5;124m\"\u001b[39m\u001b[38;5;124mConversion function \u001b[39m\u001b[38;5;132;01m{\u001b[39;00mconversion_func\u001b[38;5;132;01m!r}\u001b[39;00m\u001b[38;5;124m for type \u001b[39m\u001b[38;5;124m\"\u001b[39m\n\u001b[0;32m   (...)\u001b[0m\n\u001b[1;32m   1632\u001b[0m               \u001b[38;5;124mf\u001b[39m\u001b[38;5;124m\"\u001b[39m\u001b[38;5;124mactual = \u001b[39m\u001b[38;5;132;01m{\u001b[39;00mret\u001b[38;5;241m.\u001b[39mdtype\u001b[38;5;241m.\u001b[39mbase_dtype\u001b[38;5;241m.\u001b[39mname\u001b[38;5;132;01m}\u001b[39;00m\u001b[38;5;124m\"\u001b[39m,\n\u001b[1;32m   1633\u001b[0m               name\u001b[38;5;241m=\u001b[39mname))\n\u001b[1;32m   1635\u001b[0m \u001b[38;5;28;01mif\u001b[39;00m ret \u001b[38;5;129;01mis\u001b[39;00m \u001b[38;5;28;01mNone\u001b[39;00m:\n\u001b[0;32m-> 1636\u001b[0m   ret \u001b[38;5;241m=\u001b[39m \u001b[43mconversion_func\u001b[49m\u001b[43m(\u001b[49m\u001b[43mvalue\u001b[49m\u001b[43m,\u001b[49m\u001b[43m \u001b[49m\u001b[43mdtype\u001b[49m\u001b[38;5;241;43m=\u001b[39;49m\u001b[43mdtype\u001b[49m\u001b[43m,\u001b[49m\u001b[43m \u001b[49m\u001b[43mname\u001b[49m\u001b[38;5;241;43m=\u001b[39;49m\u001b[43mname\u001b[49m\u001b[43m,\u001b[49m\u001b[43m \u001b[49m\u001b[43mas_ref\u001b[49m\u001b[38;5;241;43m=\u001b[39;49m\u001b[43mas_ref\u001b[49m\u001b[43m)\u001b[49m\n\u001b[1;32m   1638\u001b[0m \u001b[38;5;28;01mif\u001b[39;00m ret \u001b[38;5;129;01mis\u001b[39;00m \u001b[38;5;28mNotImplemented\u001b[39m:\n\u001b[1;32m   1639\u001b[0m   \u001b[38;5;28;01mcontinue\u001b[39;00m\n",
            "File \u001b[0;32m/opt/conda/lib/python3.10/site-packages/tensorflow/python/framework/constant_op.py:343\u001b[0m, in \u001b[0;36m_constant_tensor_conversion_function\u001b[0;34m(v, dtype, name, as_ref)\u001b[0m\n\u001b[1;32m    340\u001b[0m \u001b[38;5;28;01mdef\u001b[39;00m \u001b[38;5;21m_constant_tensor_conversion_function\u001b[39m(v, dtype\u001b[38;5;241m=\u001b[39m\u001b[38;5;28;01mNone\u001b[39;00m, name\u001b[38;5;241m=\u001b[39m\u001b[38;5;28;01mNone\u001b[39;00m,\n\u001b[1;32m    341\u001b[0m                                          as_ref\u001b[38;5;241m=\u001b[39m\u001b[38;5;28;01mFalse\u001b[39;00m):\n\u001b[1;32m    342\u001b[0m   _ \u001b[38;5;241m=\u001b[39m as_ref\n\u001b[0;32m--> 343\u001b[0m   \u001b[38;5;28;01mreturn\u001b[39;00m \u001b[43mconstant\u001b[49m\u001b[43m(\u001b[49m\u001b[43mv\u001b[49m\u001b[43m,\u001b[49m\u001b[43m \u001b[49m\u001b[43mdtype\u001b[49m\u001b[38;5;241;43m=\u001b[39;49m\u001b[43mdtype\u001b[49m\u001b[43m,\u001b[49m\u001b[43m \u001b[49m\u001b[43mname\u001b[49m\u001b[38;5;241;43m=\u001b[39;49m\u001b[43mname\u001b[49m\u001b[43m)\u001b[49m\n",
            "File \u001b[0;32m/opt/conda/lib/python3.10/site-packages/tensorflow/python/framework/constant_op.py:267\u001b[0m, in \u001b[0;36mconstant\u001b[0;34m(value, dtype, shape, name)\u001b[0m\n\u001b[1;32m    170\u001b[0m \u001b[38;5;129m@tf_export\u001b[39m(\u001b[38;5;124m\"\u001b[39m\u001b[38;5;124mconstant\u001b[39m\u001b[38;5;124m\"\u001b[39m, v1\u001b[38;5;241m=\u001b[39m[])\n\u001b[1;32m    171\u001b[0m \u001b[38;5;28;01mdef\u001b[39;00m \u001b[38;5;21mconstant\u001b[39m(value, dtype\u001b[38;5;241m=\u001b[39m\u001b[38;5;28;01mNone\u001b[39;00m, shape\u001b[38;5;241m=\u001b[39m\u001b[38;5;28;01mNone\u001b[39;00m, name\u001b[38;5;241m=\u001b[39m\u001b[38;5;124m\"\u001b[39m\u001b[38;5;124mConst\u001b[39m\u001b[38;5;124m\"\u001b[39m):\n\u001b[1;32m    172\u001b[0m \u001b[38;5;250m  \u001b[39m\u001b[38;5;124;03m\"\"\"Creates a constant tensor from a tensor-like object.\u001b[39;00m\n\u001b[1;32m    173\u001b[0m \n\u001b[1;32m    174\u001b[0m \u001b[38;5;124;03m  Note: All eager `tf.Tensor` values are immutable (in contrast to\u001b[39;00m\n\u001b[0;32m   (...)\u001b[0m\n\u001b[1;32m    265\u001b[0m \u001b[38;5;124;03m    ValueError: if called on a symbolic tensor.\u001b[39;00m\n\u001b[1;32m    266\u001b[0m \u001b[38;5;124;03m  \"\"\"\u001b[39;00m\n\u001b[0;32m--> 267\u001b[0m   \u001b[38;5;28;01mreturn\u001b[39;00m \u001b[43m_constant_impl\u001b[49m\u001b[43m(\u001b[49m\u001b[43mvalue\u001b[49m\u001b[43m,\u001b[49m\u001b[43m \u001b[49m\u001b[43mdtype\u001b[49m\u001b[43m,\u001b[49m\u001b[43m \u001b[49m\u001b[43mshape\u001b[49m\u001b[43m,\u001b[49m\u001b[43m \u001b[49m\u001b[43mname\u001b[49m\u001b[43m,\u001b[49m\u001b[43m \u001b[49m\u001b[43mverify_shape\u001b[49m\u001b[38;5;241;43m=\u001b[39;49m\u001b[38;5;28;43;01mFalse\u001b[39;49;00m\u001b[43m,\u001b[49m\n\u001b[1;32m    268\u001b[0m \u001b[43m                        \u001b[49m\u001b[43mallow_broadcast\u001b[49m\u001b[38;5;241;43m=\u001b[39;49m\u001b[38;5;28;43;01mTrue\u001b[39;49;00m\u001b[43m)\u001b[49m\n",
            "File \u001b[0;32m/opt/conda/lib/python3.10/site-packages/tensorflow/python/framework/constant_op.py:279\u001b[0m, in \u001b[0;36m_constant_impl\u001b[0;34m(value, dtype, shape, name, verify_shape, allow_broadcast)\u001b[0m\n\u001b[1;32m    277\u001b[0m     \u001b[38;5;28;01mwith\u001b[39;00m trace\u001b[38;5;241m.\u001b[39mTrace(\u001b[38;5;124m\"\u001b[39m\u001b[38;5;124mtf.constant\u001b[39m\u001b[38;5;124m\"\u001b[39m):\n\u001b[1;32m    278\u001b[0m       \u001b[38;5;28;01mreturn\u001b[39;00m _constant_eager_impl(ctx, value, dtype, shape, verify_shape)\n\u001b[0;32m--> 279\u001b[0m   \u001b[38;5;28;01mreturn\u001b[39;00m \u001b[43m_constant_eager_impl\u001b[49m\u001b[43m(\u001b[49m\u001b[43mctx\u001b[49m\u001b[43m,\u001b[49m\u001b[43m \u001b[49m\u001b[43mvalue\u001b[49m\u001b[43m,\u001b[49m\u001b[43m \u001b[49m\u001b[43mdtype\u001b[49m\u001b[43m,\u001b[49m\u001b[43m \u001b[49m\u001b[43mshape\u001b[49m\u001b[43m,\u001b[49m\u001b[43m \u001b[49m\u001b[43mverify_shape\u001b[49m\u001b[43m)\u001b[49m\n\u001b[1;32m    281\u001b[0m g \u001b[38;5;241m=\u001b[39m ops\u001b[38;5;241m.\u001b[39mget_default_graph()\n\u001b[1;32m    282\u001b[0m tensor_value \u001b[38;5;241m=\u001b[39m attr_value_pb2\u001b[38;5;241m.\u001b[39mAttrValue()\n",
            "File \u001b[0;32m/opt/conda/lib/python3.10/site-packages/tensorflow/python/framework/constant_op.py:304\u001b[0m, in \u001b[0;36m_constant_eager_impl\u001b[0;34m(ctx, value, dtype, shape, verify_shape)\u001b[0m\n\u001b[1;32m    302\u001b[0m \u001b[38;5;28;01mdef\u001b[39;00m \u001b[38;5;21m_constant_eager_impl\u001b[39m(ctx, value, dtype, shape, verify_shape):\n\u001b[1;32m    303\u001b[0m \u001b[38;5;250m  \u001b[39m\u001b[38;5;124;03m\"\"\"Creates a constant on the current device.\"\"\"\u001b[39;00m\n\u001b[0;32m--> 304\u001b[0m   t \u001b[38;5;241m=\u001b[39m \u001b[43mconvert_to_eager_tensor\u001b[49m\u001b[43m(\u001b[49m\u001b[43mvalue\u001b[49m\u001b[43m,\u001b[49m\u001b[43m \u001b[49m\u001b[43mctx\u001b[49m\u001b[43m,\u001b[49m\u001b[43m \u001b[49m\u001b[43mdtype\u001b[49m\u001b[43m)\u001b[49m\n\u001b[1;32m    305\u001b[0m   \u001b[38;5;28;01mif\u001b[39;00m shape \u001b[38;5;129;01mis\u001b[39;00m \u001b[38;5;28;01mNone\u001b[39;00m:\n\u001b[1;32m    306\u001b[0m     \u001b[38;5;28;01mreturn\u001b[39;00m t\n",
            "File \u001b[0;32m/opt/conda/lib/python3.10/site-packages/tensorflow/python/framework/constant_op.py:102\u001b[0m, in \u001b[0;36mconvert_to_eager_tensor\u001b[0;34m(value, ctx, dtype)\u001b[0m\n\u001b[1;32m    100\u001b[0m     dtype \u001b[38;5;241m=\u001b[39m dtypes\u001b[38;5;241m.\u001b[39mas_dtype(dtype)\u001b[38;5;241m.\u001b[39mas_datatype_enum\n\u001b[1;32m    101\u001b[0m ctx\u001b[38;5;241m.\u001b[39mensure_initialized()\n\u001b[0;32m--> 102\u001b[0m \u001b[38;5;28;01mreturn\u001b[39;00m \u001b[43mops\u001b[49m\u001b[38;5;241;43m.\u001b[39;49m\u001b[43mEagerTensor\u001b[49m\u001b[43m(\u001b[49m\u001b[43mvalue\u001b[49m\u001b[43m,\u001b[49m\u001b[43m \u001b[49m\u001b[43mctx\u001b[49m\u001b[38;5;241;43m.\u001b[39;49m\u001b[43mdevice_name\u001b[49m\u001b[43m,\u001b[49m\u001b[43m \u001b[49m\u001b[43mdtype\u001b[49m\u001b[43m)\u001b[49m\n",
            "\u001b[0;31mValueError\u001b[0m: Failed to convert a NumPy array to a Tensor (Unsupported object type int)."
          ],
          "ename": "ValueError",
          "evalue": "Failed to convert a NumPy array to a Tensor (Unsupported object type int).",
          "output_type": "error"
        }
      ]
    },
    {
      "cell_type": "code",
      "source": [
        "dataset"
      ],
      "metadata": {
        "execution": {
          "iopub.status.busy": "2023-05-28T09:39:01.944540Z",
          "iopub.execute_input": "2023-05-28T09:39:01.944969Z",
          "iopub.status.idle": "2023-05-28T09:39:01.951797Z",
          "shell.execute_reply.started": "2023-05-28T09:39:01.944931Z",
          "shell.execute_reply": "2023-05-28T09:39:01.950849Z"
        },
        "trusted": true,
        "id": "7F9hE3pMQo5r",
        "outputId": "c13ab1b0-f3be-463e-c725-b9615f54256a"
      },
      "execution_count": null,
      "outputs": [
        {
          "execution_count": 79,
          "output_type": "execute_result",
          "data": {
            "text/plain": "<PrefetchDataset element_spec=(TensorSpec(shape=<unknown>, dtype=tf.int32, name=None), TensorSpec(shape=<unknown>, dtype=tf.int32, name=None), TensorSpec(shape=<unknown>, dtype=tf.int32, name=None), TensorSpec(shape=<unknown>, dtype=tf.float32, name=None), TensorSpec(shape=<unknown>, dtype=tf.int32, name=None))>"
          },
          "metadata": {}
        }
      ]
    },
    {
      "cell_type": "code",
      "source": [
        "data = next(iter(dataset))\n",
        "\n"
      ],
      "metadata": {
        "execution": {
          "iopub.status.busy": "2023-05-28T09:40:13.689255Z",
          "iopub.execute_input": "2023-05-28T09:40:13.689700Z",
          "iopub.status.idle": "2023-05-28T09:40:13.904461Z",
          "shell.execute_reply.started": "2023-05-28T09:40:13.689664Z",
          "shell.execute_reply": "2023-05-28T09:40:13.903390Z"
        },
        "trusted": true,
        "id": "CuK2qrm4Qo5r"
      },
      "execution_count": null,
      "outputs": []
    },
    {
      "cell_type": "code",
      "source": [
        "ip, op = data"
      ],
      "metadata": {
        "execution": {
          "iopub.status.busy": "2023-05-28T09:40:16.411644Z",
          "iopub.execute_input": "2023-05-28T09:40:16.412071Z",
          "iopub.status.idle": "2023-05-28T09:40:16.436747Z",
          "shell.execute_reply.started": "2023-05-28T09:40:16.412036Z",
          "shell.execute_reply": "2023-05-28T09:40:16.435053Z"
        },
        "trusted": true,
        "id": "aP005M4bQo5r",
        "outputId": "e1e33916-d28c-4e9a-b731-aef9211c4fd9"
      },
      "execution_count": null,
      "outputs": [
        {
          "traceback": [
            "\u001b[0;31m---------------------------------------------------------------------------\u001b[0m",
            "\u001b[0;31mValueError\u001b[0m                                Traceback (most recent call last)",
            "Cell \u001b[0;32mIn[85], line 1\u001b[0m\n\u001b[0;32m----> 1\u001b[0m ip, op \u001b[38;5;241m=\u001b[39m data\n",
            "\u001b[0;31mValueError\u001b[0m: too many values to unpack (expected 2)"
          ],
          "ename": "ValueError",
          "evalue": "too many values to unpack (expected 2)",
          "output_type": "error"
        }
      ]
    },
    {
      "cell_type": "code",
      "source": [
        "images = ip['image'][:16]\n",
        "title = ip['title'][:16]\n",
        "true_labels =  op['output'][:16]"
      ],
      "metadata": {
        "execution": {
          "iopub.status.busy": "2023-05-27T11:52:44.180340Z",
          "iopub.execute_input": "2023-05-27T11:52:44.181716Z",
          "iopub.status.idle": "2023-05-27T11:52:44.190332Z",
          "shell.execute_reply.started": "2023-05-27T11:52:44.181672Z",
          "shell.execute_reply": "2023-05-27T11:52:44.188682Z"
        },
        "trusted": true,
        "id": "AlidVRWqQo5r"
      },
      "execution_count": null,
      "outputs": []
    },
    {
      "cell_type": "code",
      "source": [
        "true_labels"
      ],
      "metadata": {
        "execution": {
          "iopub.status.busy": "2023-05-27T11:52:54.007446Z",
          "iopub.execute_input": "2023-05-27T11:52:54.008136Z",
          "iopub.status.idle": "2023-05-27T11:52:54.018899Z",
          "shell.execute_reply.started": "2023-05-27T11:52:54.008085Z",
          "shell.execute_reply": "2023-05-27T11:52:54.017279Z"
        },
        "trusted": true,
        "id": "k3EyNdJ2Qo5r",
        "outputId": "2d9c5c7d-ad63-4cc8-813a-54135d1723c9"
      },
      "execution_count": null,
      "outputs": [
        {
          "execution_count": 176,
          "output_type": "execute_result",
          "data": {
            "text/plain": "<tf.Tensor: shape=(16,), dtype=int64, numpy=array([5, 5, 5, 5, 5, 5, 5, 5, 5, 5, 5, 5, 5, 5, 5, 5])>"
          },
          "metadata": {}
        }
      ]
    },
    {
      "cell_type": "code",
      "source": [
        "import tensorflow as tf\n",
        "import tensorflow_hub as hub\n",
        "from tensorflow.keras import layers\n",
        "from tensorflow.keras import callbacks\n",
        "from tensorflow.keras import optimizers\n",
        "from tensorflow.keras import utils\n",
        "from tensorflow.keras import models\n",
        "from tensorflow.keras.preprocessing.image import ImageDataGenerator\n",
        "from tensorflow.keras import applications\n",
        "from tensorflow.keras.applications.inception_v3 import InceptionV3\n",
        "from tensorflow.keras.regularizers import l2, l1\n",
        "\n",
        "from sklearn.preprocessing import LabelEncoder\n",
        "from sklearn.model_selection import train_test_split\n",
        "from sklearn.utils import shuffle\n",
        "from sklearn.metrics import confusion_matrix\n",
        "\n",
        "\n",
        "import numpy as np\n",
        "import pandas as pd\n",
        "import re\n",
        "import glob\n",
        "import os\n",
        "import cv2\n",
        "import sys\n",
        "import pickle\n",
        "\n",
        "import matplotlib.pyplot as plt\n",
        "%matplotlib inline\n",
        "import seaborn as sns\n",
        "import plotly.express as px\n",
        "import plotly.graph_objects as go"
      ],
      "metadata": {
        "execution": {
          "iopub.status.busy": "2023-05-27T11:57:24.721236Z",
          "iopub.execute_input": "2023-05-27T11:57:24.721698Z",
          "iopub.status.idle": "2023-05-27T11:57:25.939432Z",
          "shell.execute_reply.started": "2023-05-27T11:57:24.721669Z",
          "shell.execute_reply": "2023-05-27T11:57:25.938120Z"
        },
        "trusted": true,
        "id": "PhP5RWCjQo5s"
      },
      "execution_count": null,
      "outputs": []
    },
    {
      "cell_type": "code",
      "source": [
        "# Images Model\n",
        "model_cnn = models.Sequential()\n",
        "model_cnn.add(InceptionV3(weights='imagenet', include_top=False, input_tensor=layers.Input(shape=(299, 299, 3))))\n",
        "model_cnn.add(layers.AveragePooling2D(pool_size=(8, 8), name='AVG_Pooling'))\n",
        "model_cnn.add(layers.Dropout(.4, name='Dropout_0.4'))\n",
        "model_cnn.add(layers.Flatten(name='Flatten'))\n",
        "model_cnn.add(layers.Dense(128, name='Dense_128'))"
      ],
      "metadata": {
        "execution": {
          "iopub.status.busy": "2023-05-27T11:57:28.403507Z",
          "iopub.execute_input": "2023-05-27T11:57:28.404029Z",
          "iopub.status.idle": "2023-05-27T11:57:33.592464Z",
          "shell.execute_reply.started": "2023-05-27T11:57:28.403989Z",
          "shell.execute_reply": "2023-05-27T11:57:33.591244Z"
        },
        "trusted": true,
        "id": "e0sfqCKvQo5s",
        "outputId": "639fbc64-05b5-46a7-f3dd-7d7aa5e4a4e1"
      },
      "execution_count": null,
      "outputs": [
        {
          "name": "stdout",
          "text": "Downloading data from https://storage.googleapis.com/tensorflow/keras-applications/inception_v3/inception_v3_weights_tf_dim_ordering_tf_kernels_notop.h5\n87910968/87910968 [==============================] - 1s 0us/step\n",
          "output_type": "stream"
        }
      ]
    },
    {
      "cell_type": "code",
      "source": [
        "# Keep model layers trainable\n",
        "for layer in model_cnn.layers:\n",
        "    layer.trainable = True"
      ],
      "metadata": {
        "execution": {
          "iopub.status.busy": "2023-05-27T11:57:49.840726Z",
          "iopub.execute_input": "2023-05-27T11:57:49.841180Z",
          "iopub.status.idle": "2023-05-27T11:57:49.864329Z",
          "shell.execute_reply.started": "2023-05-27T11:57:49.841149Z",
          "shell.execute_reply": "2023-05-27T11:57:49.862741Z"
        },
        "trusted": true,
        "id": "042FrRuGQo5s"
      },
      "execution_count": null,
      "outputs": []
    },
    {
      "cell_type": "code",
      "source": [
        "model_cnn.summary()"
      ],
      "metadata": {
        "execution": {
          "iopub.status.busy": "2023-05-27T11:57:57.748438Z",
          "iopub.execute_input": "2023-05-27T11:57:57.748935Z",
          "iopub.status.idle": "2023-05-27T11:57:57.806107Z",
          "shell.execute_reply.started": "2023-05-27T11:57:57.748901Z",
          "shell.execute_reply": "2023-05-27T11:57:57.804660Z"
        },
        "trusted": true,
        "id": "sEFUVBLyQo5s",
        "outputId": "8aadce3d-7f8f-4239-e039-de3c1c420e46"
      },
      "execution_count": null,
      "outputs": [
        {
          "name": "stdout",
          "text": "Model: \"sequential\"\n_________________________________________________________________\n Layer (type)                Output Shape              Param #   \n=================================================================\n inception_v3 (Functional)   (None, 8, 8, 2048)        21802784  \n                                                                 \n AVG_Pooling (AveragePooling  (None, 1, 1, 2048)       0         \n 2D)                                                             \n                                                                 \n Dropout_0.4 (Dropout)       (None, 1, 1, 2048)        0         \n                                                                 \n Flatten (Flatten)           (None, 2048)              0         \n                                                                 \n Dense_128 (Dense)           (None, 128)               262272    \n                                                                 \n=================================================================\nTotal params: 22,065,056\nTrainable params: 22,030,624\nNon-trainable params: 34,432\n_________________________________________________________________\n",
          "output_type": "stream"
        }
      ]
    },
    {
      "cell_type": "code",
      "source": [
        "from tensorflow.keras.utils import plot_model\n",
        "plot_model(model_cnn, to_file='model_cnn.png')"
      ],
      "metadata": {
        "execution": {
          "iopub.status.busy": "2023-05-27T11:58:05.491360Z",
          "iopub.execute_input": "2023-05-27T11:58:05.491820Z",
          "iopub.status.idle": "2023-05-27T11:58:05.704463Z",
          "shell.execute_reply.started": "2023-05-27T11:58:05.491788Z",
          "shell.execute_reply": "2023-05-27T11:58:05.703158Z"
        },
        "trusted": true,
        "id": "qYH8C3agQo5s",
        "outputId": "79139a36-a04a-4a9c-f3a0-372c481334e8"
      },
      "execution_count": null,
      "outputs": [
        {
          "execution_count": 185,
          "output_type": "execute_result",
          "data": {
            "image/png": "[encoded data removed]",
            "text/plain": "<IPython.core.display.Image object>"
          },
          "metadata": {}
        }
      ]
    },
    {
      "cell_type": "code",
      "source": [
        "# Bert + LSTM text model\n",
        "input_ids = layers.Input(shape=(max_length,), dtype=tf.int32, name=\"input_word_ids\")\n",
        "input_masks = layers.Input(shape=(max_length,), dtype=tf.int32, name=\"input_masks\")\n",
        "input_segments = layers.Input(shape=(max_length,), dtype=tf.int32, name=\"segment_ids\")\n",
        "_, seq_out = bert_layer([input_ids, input_masks, input_segments])\n",
        "out = layers.LSTM(128, name='LSTM')(seq_out)\n",
        "model_lstm = models.Model([input_ids, input_masks, input_segments], out)"
      ],
      "metadata": {
        "execution": {
          "iopub.status.busy": "2023-05-27T11:59:16.727346Z",
          "iopub.execute_input": "2023-05-27T11:59:16.727764Z",
          "iopub.status.idle": "2023-05-27T11:59:19.873406Z",
          "shell.execute_reply.started": "2023-05-27T11:59:16.727735Z",
          "shell.execute_reply": "2023-05-27T11:59:19.872126Z"
        },
        "trusted": true,
        "id": "G5p4d8tCQo5s"
      },
      "execution_count": null,
      "outputs": []
    },
    {
      "cell_type": "code",
      "source": [
        "# Keep the Bert + LSTM layers trainable\n",
        "for layer in model_lstm.layers:\n",
        "    layer.trainable = True"
      ],
      "metadata": {
        "execution": {
          "iopub.status.busy": "2023-05-27T11:59:32.204231Z",
          "iopub.execute_input": "2023-05-27T11:59:32.204715Z",
          "iopub.status.idle": "2023-05-27T11:59:32.212158Z",
          "shell.execute_reply.started": "2023-05-27T11:59:32.204683Z",
          "shell.execute_reply": "2023-05-27T11:59:32.210629Z"
        },
        "trusted": true,
        "id": "qN_7hiT6Qo5t"
      },
      "execution_count": null,
      "outputs": []
    },
    {
      "cell_type": "code",
      "source": [
        "model_lstm.summary()"
      ],
      "metadata": {
        "execution": {
          "iopub.status.busy": "2023-05-27T11:59:39.089622Z",
          "iopub.execute_input": "2023-05-27T11:59:39.090157Z",
          "iopub.status.idle": "2023-05-27T11:59:39.136250Z",
          "shell.execute_reply.started": "2023-05-27T11:59:39.090122Z",
          "shell.execute_reply": "2023-05-27T11:59:39.134768Z"
        },
        "trusted": true,
        "id": "8NHuuCeHQo5t",
        "outputId": "da33b19e-4e96-4695-f6ba-e40cb73555c6"
      },
      "execution_count": null,
      "outputs": [
        {
          "name": "stdout",
          "text": "Model: \"model\"\n__________________________________________________________________________________________________\n Layer (type)                   Output Shape         Param #     Connected to                     \n==================================================================================================\n input_word_ids (InputLayer)    [(None, 512)]        0           []                               \n                                                                                                  \n input_masks (InputLayer)       [(None, 512)]        0           []                               \n                                                                                                  \n segment_ids (InputLayer)       [(None, 512)]        0           []                               \n                                                                                                  \n keras_layer (KerasLayer)       [(None, 1024),       335141889   ['input_word_ids[0][0]',         \n                                 (None, 512, 1024)]               'input_masks[0][0]',            \n                                                                  'segment_ids[0][0]']            \n                                                                                                  \n LSTM (LSTM)                    (None, 128)          590336      ['keras_layer[0][1]']            \n                                                                                                  \n==================================================================================================\nTotal params: 335,732,225\nTrainable params: 335,732,224\nNon-trainable params: 1\n__________________________________________________________________________________________________\n",
          "output_type": "stream"
        }
      ]
    },
    {
      "cell_type": "code",
      "source": [
        "plot_model(model_lstm, to_file='bert_lstm.png')"
      ],
      "metadata": {
        "execution": {
          "iopub.status.busy": "2023-05-27T11:59:51.375400Z",
          "iopub.execute_input": "2023-05-27T11:59:51.375893Z",
          "iopub.status.idle": "2023-05-27T11:59:51.454471Z",
          "shell.execute_reply.started": "2023-05-27T11:59:51.375861Z",
          "shell.execute_reply": "2023-05-27T11:59:51.453276Z"
        },
        "trusted": true,
        "id": "VXRljR6uQo5t",
        "outputId": "357fade4-ef5f-435f-a4ab-97a77c779824"
      },
      "execution_count": null,
      "outputs": [
        {
          "execution_count": 191,
          "output_type": "execute_result",
          "data": {
            "image/png": "[encoded data removed]",
            "text/plain": "<IPython.core.display.Image object>"
          },
          "metadata": {}
        }
      ]
    },
    {
      "cell_type": "code",
      "source": [
        "# Stacking early-fusion multimodal model\n",
        "\n",
        "input_word_ids = layers.Input(shape=(max_length,), dtype=tf.int32,\n",
        "                                       name=\"input_word_ids\")\n",
        "input_mask = layers.Input(shape=(max_length,), dtype=tf.int32,\n",
        "                                   name=\"input_mask\")\n",
        "segment_ids = layers.Input(shape=(max_length,), dtype=tf.int32,\n",
        "                                    name=\"segment_ids\")\n",
        "image_input = layers.Input(shape = input_shape, dtype=tf.float32,\n",
        "                           name = \"image\")\n",
        "\n",
        "image_side = model_cnn(image_input)\n",
        "text_side = model_lstm([input_word_ids, input_mask, segment_ids])\n",
        "# Concatenate features from images and texts\n",
        "merged = layers.Concatenate()([image_side, text_side])\n",
        "merged = layers.Dense(256, activation = 'relu')(merged)\n",
        "output = layers.Dense(nClasses, activation='softmax', name = \"class\")(merged)"
      ],
      "metadata": {
        "id": "Em7VrTbgQo5t"
      },
      "execution_count": null,
      "outputs": []
    },
    {
      "cell_type": "code",
      "source": [
        "model = models.Model([input_word_ids, input_mask, segment_ids, image_input], output)"
      ],
      "metadata": {
        "id": "AWXrGPYVQo5t"
      },
      "execution_count": null,
      "outputs": []
    },
    {
      "cell_type": "code",
      "source": [
        "model.summary()"
      ],
      "metadata": {
        "id": "BlV8rkVFQo5t"
      },
      "execution_count": null,
      "outputs": []
    },
    {
      "cell_type": "code",
      "source": [
        "from tensorflow.keras.utils import plot_model\n",
        "plot_model(model, to_file='multimodal.png')"
      ],
      "metadata": {
        "id": "MVSNsbvSQo5t"
      },
      "execution_count": null,
      "outputs": []
    },
    {
      "cell_type": "code",
      "source": [
        "# Stochastic Gradient Descent optimizer\n",
        "sgd = optimizers.SGD(learning_rate=0.0001, momentum=0.9, nesterov=False)\n",
        "\n",
        "# Compile model\n",
        "model.compile(loss='categorical_crossentropy',\n",
        "              optimizer=sgd,\n",
        "              metrics=['accuracy'])"
      ],
      "metadata": {
        "id": "PvxBB4iYQo5t"
      },
      "execution_count": null,
      "outputs": []
    },
    {
      "cell_type": "code",
      "source": [
        "# Setup callbacks, logs and early stopping condition\n",
        "checkpoint_path = \"stacking_early_fusion/weights-improvement-{epoch:02d}-{val_accuracy:.2f}.hdf5\"\n",
        "cp = callbacks.ModelCheckpoint(checkpoint_path, monitor='val_accuracy',save_best_only=True,verbose=1, mode='max')\n",
        "csv_logger = callbacks.CSVLogger('stacking_early_fusion/stacking_early.log')\n",
        "es = callbacks.EarlyStopping(patience = 3, restore_best_weights=True)"
      ],
      "metadata": {
        "id": "rMolFzFFQo5t"
      },
      "execution_count": null,
      "outputs": []
    },
    {
      "cell_type": "code",
      "source": [
        "# Reduce learning rate if no improvement is observed\n",
        "reduce_lr = callbacks.ReduceLROnPlateau(\n",
        "    monitor='val_accuracy', factor=0.1, patience=1, min_lr=0.00001)"
      ],
      "metadata": {
        "id": "NvWQdkFOQo5t"
      },
      "execution_count": null,
      "outputs": []
    },
    {
      "cell_type": "code",
      "source": [
        "# Load model weights\n",
        "model.load_weights('stacking_early_fusion/weights-improvement-16-0.92.hdf5')"
      ],
      "metadata": {
        "id": "nGLR3mkoQo5t"
      },
      "execution_count": null,
      "outputs": []
    },
    {
      "cell_type": "code",
      "source": [
        "# Training\n",
        "history = model.fit(data_train,\n",
        "                  epochs=15,\n",
        "                  steps_per_epoch = train.shape[0]//batch_size,\n",
        "                  validation_data = data_test,\n",
        "                   validation_steps = test.shape[0]//batch_size,\n",
        "                 callbacks=[cp, csv_logger, reduce_lr])"
      ],
      "metadata": {
        "id": "FB7TfN3eQo5t"
      },
      "execution_count": null,
      "outputs": []
    },
    {
      "cell_type": "code",
      "source": [
        "# Plot training and test accuracy using Plotly library\n",
        "df = pd.read_csv('stacking_early_fusion/stacking_early.log')\n",
        "\n",
        "fig = go.Figure()\n",
        "fig.add_trace(go.Scatter(x=df['epoch'], y=df['accuracy'],\n",
        "                    mode='lines',\n",
        "                    name='training'))\n",
        "\n",
        "fig.add_trace(go.Scatter(x=df['epoch'], y=df['val_accuracy'],\n",
        "                    mode='lines',\n",
        "                    name='test'))\n",
        "\n",
        "fig.update_layout(\n",
        "    font_size = 20,\n",
        "    paper_bgcolor='rgba(0,0,0,0)',\n",
        "    plot_bgcolor='rgba(0,0,0,0)',\n",
        ")\n",
        "\n",
        "fig.update_xaxes(showgrid=True, gridwidth=0.5, gridcolor='Gray')\n",
        "fig.update_yaxes(showgrid=True, gridwidth=0.5, gridcolor='Gray')"
      ],
      "metadata": {
        "id": "wQDh30CRQo5t"
      },
      "execution_count": null,
      "outputs": []
    },
    {
      "cell_type": "code",
      "source": [
        "# Plot training and test loss using Plotly library\n",
        "fig = go.Figure()\n",
        "fig.add_trace(go.Scatter(x=df['epoch'], y=df['loss'],\n",
        "                    mode='lines',\n",
        "                    name='training'))\n",
        "\n",
        "fig.add_trace(go.Scatter(x=df['epoch'], y=df['val_loss'],\n",
        "                    mode='lines',\n",
        "                    name='test'))\n",
        "\n",
        "fig.update_layout(\n",
        "    font_size = 20,\n",
        "    paper_bgcolor='rgba(0,0,0,0)',\n",
        "    plot_bgcolor='rgba(0,0,0,0)',\n",
        ")\n",
        "\n",
        "fig.update_xaxes(showgrid=True, gridwidth=0.5, gridcolor='Gray')\n",
        "fig.update_yaxes(showgrid=True, gridwidth=0.5, gridcolor='Gray')"
      ],
      "metadata": {
        "id": "GjgbWmPQQo5t"
      },
      "execution_count": null,
      "outputs": []
    },
    {
      "cell_type": "code",
      "source": [
        "# Model evaluation on test set\n",
        "model.evaluate(data_test,\n",
        "               steps = test.shape[0]//batch_size)"
      ],
      "metadata": {
        "id": "j286kRnNQo5t"
      },
      "execution_count": null,
      "outputs": []
    },
    {
      "cell_type": "markdown",
      "source": [
        "---"
      ],
      "metadata": {
        "id": "CxcppJGUQo5u"
      }
    },
    {
      "cell_type": "code",
      "source": [
        "# 아래 필요 x"
      ],
      "metadata": {
        "id": "SKLgumboQo5u"
      },
      "execution_count": null,
      "outputs": []
    },
    {
      "cell_type": "code",
      "source": [
        "import re\n",
        "import cv2\n",
        "import tensorflow as tf\n",
        "import numpy as np\n",
        "from transformers import BertTokenizer\n",
        "\n",
        "# BERT 토크나이저 준비\n",
        "tokenizer = BertTokenizer.from_pretrained('bert-base-uncased')\n",
        "\n",
        "# 텍스트 전처리 함수\n",
        "def preprocess_text(sen):\n",
        "    # HTML 태그 제거\n",
        "    sentence = remove_tags(sen)\n",
        "    # 구두점과 숫자 제거\n",
        "    sentence = re.sub('[^a-zA-Z]', ' ', sentence)\n",
        "    # 단일 문자 제거\n",
        "    sentence = re.sub(r\"\\s+[a-zA-Z]\\s+\", ' ', sentence)\n",
        "    # 여러 개의 공백 제거\n",
        "    sentence = re.sub(r'\\s+', ' ', sentence)\n",
        "    sentence = sentence.lower()\n",
        "    return sentence\n",
        "\n",
        "# HTML 태그 제거 함수\n",
        "def remove_tags(text):\n",
        "    if isinstance(text, str):\n",
        "        return TAG_RE.sub('', text)\n",
        "    else:\n",
        "        return ''\n",
        "\n",
        "\n",
        "TAG_RE = re.compile(r'<[^>]+>')\n",
        "\n",
        "# 이미지 로드 및 전처리 함수\n",
        "def load_image(img_path):\n",
        "    img = tf.io.read_file(img_path)  # 이미지 파일을 바이트 스트링으로 읽어옴\n",
        "    img = tf.image.decode_jpeg(img, channels=3)  # JPEG 이미지를 디코딩하여 텐서로 변환\n",
        "    img = tf.image.resize(img, (229, 229))  # 이미지 크기 조정\n",
        "    img = img / 255.0  # 정규화\n",
        "    return img\n",
        "\n",
        "\n",
        "\n",
        "def create_dataset(df, batch_size):\n",
        "    # 이미지 경로 추출\n",
        "    image_paths = df['image_path'].values\n",
        "\n",
        "    # 이미지 데이터셋 생성\n",
        "    images = tf.data.Dataset.from_tensor_slices((df, image_paths))\n",
        "    images = images.map(lambda x, y: load_image(x, y), num_parallel_calls=tf.data.experimental.AUTOTUNE)\n",
        "\n",
        "    # 텍스트 데이터셋 생성\n",
        "    texts = tf.data.Dataset.from_tensor_slices(df['Title'].values)\n",
        "\n",
        "    # 데이터셋 병합\n",
        "    dataset = tf.data.Dataset.zip((images, texts))\n",
        "    dataset = dataset.batch(batch_size)\n",
        "\n",
        "    return dataset\n",
        "\n",
        "\n",
        "# 텍스트 전처리 및 BERT 입력 생성 함수\n",
        "def prepare_text(texts, tokenizer, max_length):\n",
        "    texts = [preprocess_text(text) for text in texts]\n",
        "    input_ids = []\n",
        "    attention_masks = []\n",
        "    token_type_ids = []\n",
        "    for text in texts:\n",
        "        encoded_text = tokenizer.encode_plus(\n",
        "            text,\n",
        "            add_special_tokens=True,\n",
        "            max_length=max_length,\n",
        "            padding='max_length',\n",
        "            truncation=True,\n",
        "            return_tensors='tf'\n",
        "        )\n",
        "        input_ids.append(encoded_text['input_ids'][0])\n",
        "        attention_masks.append(encoded_text['attention_mask'][0])\n",
        "        token_type_ids.append(encoded_text['token_type_ids'][0])\n",
        "    return {\n",
        "        'input_ids': np.array(input_ids),\n",
        "        'attention_masks': np.array(attention_masks),\n",
        "        'token_type_ids': np.array(token_type_ids)\n",
        "    }\n",
        "\n",
        "# 이미지와 텍스트 데이터를 로드하고 전처리하여 모델에 입력 형식으로 변환하는 함수\n",
        "def prepare_data(image_paths, titles, labels):\n",
        "    images = load_image(image_paths)\n",
        "    texts = prepare_text(titles, tokenizer, max_length)\n",
        "    return (images, texts), labels\n",
        "\n",
        "\n",
        "\n",
        "def create_dataset(df, batch_size):\n",
        "    # 이미지 경로 추출\n",
        "    image_paths = df['image_path'].values\n",
        "\n",
        "    # 이미지 데이터셋 생성\n",
        "    images = tf.data.Dataset.from_tensor_slices(image_paths)\n",
        "    images = images.map(load_image, num_parallel_calls=tf.data.experimental.AUTOTUNE)\n",
        "\n",
        "    # 텍스트 데이터셋 생성\n",
        "    texts = tf.data.Dataset.from_tensor_slices(df['Title'].values)\n",
        "    texts = texts.map(preprocess_text, num_parallel_calls=tf.data.experimental.AUTOTUNE)\n",
        "\n",
        "    # 레이블 데이터셋 생성\n",
        "    labels = df['label_encode'].values\n",
        "\n",
        "    # 데이터셋 병합\n",
        "    dataset = tf.data.Dataset.zip((images, texts))\n",
        "    dataset = dataset.map(lambda x, y: (x, y, labels))\n",
        "    dataset = dataset.batch(batch_size)\n",
        "\n",
        "    return dataset\n"
      ],
      "metadata": {
        "execution": {
          "iopub.status.busy": "2023-05-27T11:35:13.694244Z",
          "iopub.execute_input": "2023-05-27T11:35:13.694836Z",
          "iopub.status.idle": "2023-05-27T11:35:13.923906Z",
          "shell.execute_reply.started": "2023-05-27T11:35:13.694795Z",
          "shell.execute_reply": "2023-05-27T11:35:13.922393Z"
        },
        "trusted": true,
        "id": "6x8CpzdRQo5u"
      },
      "execution_count": null,
      "outputs": []
    },
    {
      "cell_type": "code",
      "source": [
        "# 데이터셋 생성\n",
        "batch_size = 16\n",
        "dataset = create_dataset(sample_df, batch_size)"
      ],
      "metadata": {
        "execution": {
          "iopub.status.busy": "2023-05-27T11:35:15.767601Z",
          "iopub.execute_input": "2023-05-27T11:35:15.768227Z",
          "iopub.status.idle": "2023-05-27T11:35:15.923328Z",
          "shell.execute_reply.started": "2023-05-27T11:35:15.768183Z",
          "shell.execute_reply": "2023-05-27T11:35:15.921923Z"
        },
        "trusted": true,
        "id": "TANQYbS2Qo5u"
      },
      "execution_count": null,
      "outputs": []
    },
    {
      "cell_type": "code",
      "source": [
        "dataset"
      ],
      "metadata": {
        "execution": {
          "iopub.status.busy": "2023-05-27T11:46:41.483511Z",
          "iopub.execute_input": "2023-05-27T11:46:41.484141Z",
          "iopub.status.idle": "2023-05-27T11:46:41.494172Z",
          "shell.execute_reply.started": "2023-05-27T11:46:41.484094Z",
          "shell.execute_reply": "2023-05-27T11:46:41.492642Z"
        },
        "trusted": true,
        "id": "WMLNSd2SQo5u",
        "outputId": "9307a74e-d95a-4a9a-d840-dbed32d0830a"
      },
      "execution_count": null,
      "outputs": [
        {
          "execution_count": 147,
          "output_type": "execute_result",
          "data": {
            "text/plain": "<BatchDataset element_spec=(TensorSpec(shape=(None, 229, 229, 3), dtype=tf.float32, name=None), TensorSpec(shape=(None,), dtype=tf.string, name=None), TensorSpec(shape=(None, 984), dtype=tf.int64, name=None))>"
          },
          "metadata": {}
        }
      ]
    },
    {
      "cell_type": "code",
      "source": [],
      "metadata": {
        "id": "KI8mzf3QQo5u"
      },
      "execution_count": null,
      "outputs": []
    },
    {
      "cell_type": "code",
      "source": [
        "ip, op, labels = next(iter(dataset))\n"
      ],
      "metadata": {
        "execution": {
          "iopub.status.busy": "2023-05-27T11:46:45.937921Z",
          "iopub.execute_input": "2023-05-27T11:46:45.939307Z",
          "iopub.status.idle": "2023-05-27T11:46:46.002912Z",
          "shell.execute_reply.started": "2023-05-27T11:46:45.939205Z",
          "shell.execute_reply": "2023-05-27T11:46:46.001172Z"
        },
        "trusted": true,
        "id": "koRNcV_7Qo5u"
      },
      "execution_count": null,
      "outputs": []
    },
    {
      "cell_type": "code",
      "source": [
        "import tensorflow as tf\n",
        "import tensorflow_hub as hub\n",
        "from tensorflow.keras import layers\n",
        "\n",
        "# 이미지 입력 모델 (InceptionV3)\n",
        "image_input = layers.Input(shape=(img_width, img_height, depth), name='image_input')\n",
        "image_model = tf.keras.applications.InceptionV3(input_tensor=image_input, include_top=False, weights='imagenet')\n",
        "image_model.trainable = False\n",
        "\n",
        "# 텍스트 입력 모델 (BERT)\n",
        "text_input = layers.Input(shape=(max_length,), dtype=tf.int32, name='text_input')\n",
        "text_model = bert_layer([text_input['input_ids'], text_input['input_mask'], text_input['segment_ids']])[1]\n",
        "\n",
        "# 모델 결합\n",
        "combined_model = layers.concatenate([image_model.output, text_model])\n",
        "combined_model = layers.Dense(512, activation='relu')(combined_model)\n",
        "combined_model = layers.Dropout(0.5)(combined_model)\n",
        "combined_model = layers.Dense(nClasses, activation='softmax')(combined_model)\n",
        "\n",
        "# 최종 모델 정의\n",
        "model = tf.keras.Model(inputs=[image_input, text_input], outputs=combined_model)\n",
        "\n",
        "# 모델 컴파일\n",
        "model.compile(loss='sparse_categorical_crossentropy', optimizer='adam', metrics=['accuracy'])\n"
      ],
      "metadata": {
        "id": "7gMbyVJiQo5u"
      },
      "execution_count": null,
      "outputs": []
    },
    {
      "cell_type": "code",
      "source": [
        "batch_size = 16\n",
        "epochs = 10\n",
        "\n",
        "dataset = create_dataset(sample_df, batch_size)\n",
        "\n",
        "model.fit(dataset, epochs=epochs)\n"
      ],
      "metadata": {
        "id": "BVYGMiMmQo5u"
      },
      "execution_count": null,
      "outputs": []
    },
    {
      "cell_type": "code",
      "source": [],
      "metadata": {
        "id": "vZf5NOdBQo5u"
      },
      "execution_count": null,
      "outputs": []
    }
  ]
}