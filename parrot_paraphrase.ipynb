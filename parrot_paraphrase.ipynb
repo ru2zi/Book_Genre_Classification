{
  "nbformat": 4,
  "nbformat_minor": 0,
  "metadata": {
    "colab": {
      "provenance": [],
      "include_colab_link": true
    },
    "kernelspec": {
      "name": "python3",
      "display_name": "Python 3"
    },
    "language_info": {
      "name": "python"
    }
  },
  "cells": [
    {
      "cell_type": "markdown",
      "metadata": {
        "id": "view-in-github",
        "colab_type": "text"
      },
      "source": [
        "<a href=\"https://colab.research.google.com/github/ru2zi/Book_Genre_Classification/blob/main/parrot_paraphrase.ipynb\" target=\"_parent\"><img src=\"https://colab.research.google.com/assets/colab-badge.svg\" alt=\"Open In Colab\"/></a>"
      ]
    },
    {
      "cell_type": "code",
      "execution_count": null,
      "metadata": {
        "id": "9DUkaxh3S2Ma"
      },
      "outputs": [],
      "source": [
        "pip install transformers torch"
      ]
    },
    {
      "cell_type": "code",
      "source": [
        "pip install transformers[sentencepiece]"
      ],
      "metadata": {
        "id": "jZnPATEjTGmz"
      },
      "execution_count": null,
      "outputs": []
    },
    {
      "cell_type": "code",
      "source": [
        "pip install git+https://github.com/PrithivirajDamodaran/Parrot_Paraphraser.git"
      ],
      "metadata": {
        "id": "jivRgKteTJ5E"
      },
      "execution_count": null,
      "outputs": []
    },
    {
      "cell_type": "code",
      "source": [
        "pip install parrot-Parrot_Paraphraser"
      ],
      "metadata": {
        "id": "ZsJrnYaOTV8G"
      },
      "execution_count": null,
      "outputs": []
    },
    {
      "cell_type": "code",
      "source": [
        "from tqdm import tqdm"
      ],
      "metadata": {
        "id": "h5PRvHkoTBzY"
      },
      "execution_count": null,
      "outputs": []
    },
    {
      "cell_type": "code",
      "source": [
        "import pandas as pd\n",
        "from transformers import T5ForConditionalGeneration, T5Tokenizer"
      ],
      "metadata": {
        "id": "C-mHNs9_TDO6"
      },
      "execution_count": null,
      "outputs": []
    },
    {
      "cell_type": "code",
      "source": [
        "df = pd.read_csv('/content/drive/MyDrive/Colab Notebooks/train_data_total.csv', encoding='latin_1')"
      ],
      "metadata": {
        "id": "HLr6Pg-WTNY4"
      },
      "execution_count": null,
      "outputs": []
    },
    {
      "cell_type": "code",
      "source": [
        "from parrot import Parrot\n",
        "import pandas as pd"
      ],
      "metadata": {
        "id": "8DoCRYubTbbJ"
      },
      "execution_count": null,
      "outputs": []
    },
    {
      "cell_type": "code",
      "source": [
        "parrot = Parrot(model_tag=\"prithivida/parrot_paraphraser_on_T5\", use_gpu=False)"
      ],
      "metadata": {
        "id": "gyv0Y_lXTdIM"
      },
      "execution_count": null,
      "outputs": []
    },
    {
      "cell_type": "code",
      "source": [
        "def paraphrase_text(text):\n",
        "    para_phrases = parrot.augment(input_phrase=text)\n",
        "    paraphrased_text = para_phrases[0]  # Select the first paraphrased phrase\n",
        "\n",
        "\n",
        "    return paraphrased_text"
      ],
      "metadata": {
        "id": "Gy9XavsXTefr"
      },
      "execution_count": null,
      "outputs": []
    },
    {
      "cell_type": "code",
      "source": [
        "tqdm.pandas()"
      ],
      "metadata": {
        "id": "asymolR-Tfsj"
      },
      "execution_count": null,
      "outputs": []
    },
    {
      "cell_type": "code",
      "source": [
        "df['paraphrased_summary'] = df['summary'].progress_apply(paraphrase_text)"
      ],
      "metadata": {
        "id": "Xc7C9xxiTg2h"
      },
      "execution_count": null,
      "outputs": []
    }
  ]
}