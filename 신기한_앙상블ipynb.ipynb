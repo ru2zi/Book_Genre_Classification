{
  "nbformat": 4,
  "nbformat_minor": 0,
  "metadata": {
    "colab": {
      "private_outputs": true,
      "provenance": [],
      "authorship_tag": "ABX9TyM+R6vApZjKF+NGNt5zobA8",
      "include_colab_link": true
    },
    "kernelspec": {
      "name": "python3",
      "display_name": "Python 3"
    },
    "language_info": {
      "name": "python"
    }
  },
  "cells": [
    {
      "cell_type": "markdown",
      "metadata": {
        "id": "view-in-github",
        "colab_type": "text"
      },
      "source": [
        "<a href=\"https://colab.research.google.com/github/ru2zi/Book_Genre_Classification/blob/main/%EC%8B%A0%EA%B8%B0%ED%95%9C_%EC%95%99%EC%83%81%EB%B8%94ipynb.ipynb\" target=\"_parent\"><img src=\"https://colab.research.google.com/assets/colab-badge.svg\" alt=\"Open In Colab\"/></a>"
      ]
    },
    {
      "cell_type": "code",
      "execution_count": null,
      "metadata": {
        "id": "mpX0H29jGH0L"
      },
      "outputs": [],
      "source": [
        "import pandas as pd\n",
        "from collections import defaultdict, Counter\n",
        "\n",
        "\n",
        "file_paths = [\"/content/drive/MyDrive/Dacon/책분류/last/base_maxpooling_Title.csv\",\n",
        "              \"/content/drive/MyDrive/Dacon/책분류/last/bert_base_len256.csv\",\n",
        "              \"/content/drive/MyDrive/Dacon/책분류/last/sample_submission_bert.csv\",\n",
        "              \"/content/drive/MyDrive/Dacon/책분류/last/sample_submission_bert_5fold_500.csv\",\n",
        "              \"/content/drive/MyDrive/Dacon/책분류/last/sub_bertugmirasyedi_deberta-v3-base-book-classification.csv\",\n",
        "               # 위에 있는 5개의 파일은 기존 점수 상위 5개로 이를 바탕으로 hard voting하여 new_file 생성: 0.73178\n",
        "              '/content/drive/MyDrive/Dacon/책분류/last/b16_lr001_li_earlyerror.csv',\n",
        "              '/content/drive/MyDrive/Dacon/책분류/last/Aug_sub_0.81_distilbert-base-uncased_distilbert-base-uncased.csv',\n",
        "              '/content/drive/MyDrive/Dacon/책분류/last/bert_base_len20.csv',\n",
        "              \"/content/drive/MyDrive/Dacon/책분류/last/sub_checkpoint.csv\",\n",
        "              \"/content/drive/MyDrive/Dacon/책분류/last/sub_checkpoint-15038 (2).csv\"\n",
        "              '/content/drive/MyDrive/Dacon/책분류/last/unbased16.csv',\n",
        "              '/content/drive/MyDrive/Dacon/책분류/last/new_file.csv',\n",
        "              '/content/drive/MyDrive/Dacon/책분류/last/new_file2.csv'\n",
        "               # new_file2: new_file + 0.69 이상의 f1 score 기록한 것 hard voting: 0.73353\n",
        "              ]\n",
        "\n",
        "# 각 id별로 레이블 카운트를 저장할 딕셔너리\n",
        "id_label_counts = defaultdict(Counter)\n",
        "\n",
        "# 각 파일에서 레이블 카운트 계산\n",
        "for file_path in file_paths:\n",
        "    df = pd.read_csv(file_path)\n",
        "    for _, row in df.iterrows():\n",
        "        id_value = row['id']\n",
        "        label_value = row['label']\n",
        "        id_label_counts[id_value].update([label_value])\n",
        "\n",
        "\n",
        "most_common_labels = {id_value: counts.most_common(1)[0][0] for id_value, counts in id_label_counts.items()}\n",
        "\n",
        "new_data = pd.DataFrame({'id': list(most_common_labels.keys()), 'label': list(most_common_labels.values())})\n",
        "\n",
        "new_data.to_csv(\"/content/drive/MyDrive/Dacon/책분류/last/please.csv\", index=False)\n",
        "# 최종 결과물: 0.73465"
      ]
    },
    {
      "cell_type": "code",
      "source": [],
      "metadata": {
        "id": "hulBqWuskpzM"
      },
      "execution_count": null,
      "outputs": []
    },
    {
      "cell_type": "code",
      "source": [
        "import pandas as pd\n",
        "from collections import defaultdict, Counter\n",
        "\n",
        "# 기존 점수 상위 5개로 이를 바탕으로 hard voting하여 new_file 생성: 0.73178\n",
        "df1 = pd.read_csv(\"/content/drive/MyDrive/Dacon/Book Category/last/base_maxpooling_Title.csv\")\n",
        "df2 = pd.read_csv(\"/content/drive/MyDrive/Dacon/Classification/last/bert_base_len256.csv\")\n",
        "df3 = pd.read_csv(\"/content/drive/MyDrive/Dacon/Book Category/last/sample_submission_bert.csv\")\n",
        "df4 = pd.read_csv(\"/content/drive/MyDrive/Dacon/Book Category/last/sample_submission_bert_5fold_500.csv\")\n",
        "df5 = pd.read_csv(\"/content/drive/MyDrive/Dacon/classification/last/sub_bertugmirasyedi_deberta-v3-base-book-classification.csv\")\n",
        "\n",
        "# A dictionary to store the label count for each id\n",
        "id_label_counts = defaultdict(Counter)\n",
        "\n",
        "# Calculate label count in each dataframe\n",
        "for df in [df1, df2, df3, df4, df5]:\n",
        "    for _, row in df.iterrows():\n",
        "        id_value = row['id']\n",
        "        label_value = row['label']\n",
        "        id_label_counts[id_value].update([label_value])\n",
        "\n",
        "most_common_labels = {id_value: counts.most_common(1)[0][0] for id_value, counts in id_label_counts.items()}\n",
        "\n",
        "new_data = pd.DataFrame({'id': list(most_common_labels.keys()), 'label': list(most_common_labels.values())})\n",
        "\n",
        "new_data.to_csv(\"/content/drive/MyDrive/Dacon/Classification/last/new_file.csv\", index=False)\n"
      ],
      "metadata": {
        "id": "opbeYyNcTKS7"
      },
      "execution_count": null,
      "outputs": []
    },
    {
      "cell_type": "code",
      "source": [],
      "metadata": {
        "id": "4oXxICQbTVWs"
      },
      "execution_count": null,
      "outputs": []
    }
  ]
}